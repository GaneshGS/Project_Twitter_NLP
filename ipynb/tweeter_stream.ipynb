{
 "cells": [
  {
   "cell_type": "code",
   "execution_count": 1,
   "metadata": {
    "collapsed": true
   },
   "outputs": [],
   "source": [
    "import requests\n",
    "import numpy as np\n",
    "import pandas as pd\n",
    "import json\n",
    "from IPython.display import display"
   ]
  },
  {
   "cell_type": "code",
   "execution_count": 13,
   "metadata": {},
   "outputs": [
    {
     "name": "stdout",
     "output_type": "stream",
     "text": [
      "Requirement already satisfied (use --upgrade to upgrade): tweepy in /opt/conda/lib/python3.5/site-packages\n",
      "Requirement already satisfied (use --upgrade to upgrade): twitter in /opt/conda/lib/python3.5/site-packages\n",
      "Collecting pymongo\n",
      "  Downloading pymongo-3.4.0-cp35-cp35m-manylinux1_x86_64.whl (359kB)\n",
      "\u001b[K    100% |████████████████████████████████| 368kB 2.3MB/s eta 0:00:01\n",
      "\u001b[?25hRequirement already satisfied (use --upgrade to upgrade): requests>=2.4.3 in /opt/conda/lib/python3.5/site-packages (from tweepy)\n",
      "Requirement already satisfied (use --upgrade to upgrade): requests-oauthlib>=0.4.1 in /opt/conda/lib/python3.5/site-packages (from tweepy)\n",
      "Requirement already satisfied (use --upgrade to upgrade): six>=1.7.3 in /opt/conda/lib/python3.5/site-packages (from tweepy)\n",
      "Requirement already satisfied (use --upgrade to upgrade): oauthlib>=0.6.2 in /opt/conda/lib/python3.5/site-packages (from requests-oauthlib>=0.4.1->tweepy)\n",
      "Installing collected packages: pymongo\n",
      "Successfully installed pymongo-3.4.0\n",
      "\u001b[33mYou are using pip version 8.1.2, however version 9.0.1 is available.\n",
      "You should consider upgrading via the 'pip install --upgrade pip' command.\u001b[0m\n"
     ]
    }
   ],
   "source": [
    "!pip install tweepy twitter pymongo"
   ]
  },
  {
   "cell_type": "code",
   "execution_count": 6,
   "metadata": {},
   "outputs": [
    {
     "ename": "NameError",
     "evalue": "name 'CONSUMER_KEY' is not defined",
     "output_type": "error",
     "traceback": [
      "\u001b[0;31m---------------------------------------------------------------------------\u001b[0m",
      "\u001b[0;31mNameError\u001b[0m                                 Traceback (most recent call last)",
      "\u001b[0;32m<ipython-input-6-f3a78712a863>\u001b[0m in \u001b[0;36m<module>\u001b[0;34m()\u001b[0m\n\u001b[1;32m      2\u001b[0m \u001b[0;32mfrom\u001b[0m \u001b[0mtweepy\u001b[0m \u001b[0;32mimport\u001b[0m \u001b[0mOAuthHandler\u001b[0m\u001b[0;34m\u001b[0m\u001b[0m\n\u001b[1;32m      3\u001b[0m \u001b[0;32mfrom\u001b[0m \u001b[0mtweepy\u001b[0m \u001b[0;32mimport\u001b[0m \u001b[0mStream\u001b[0m\u001b[0;34m\u001b[0m\u001b[0m\n\u001b[0;32m----> 4\u001b[0;31m \u001b[0mauth\u001b[0m \u001b[0;34m=\u001b[0m \u001b[0mOAuthHandler\u001b[0m\u001b[0;34m(\u001b[0m\u001b[0mCONSUMER_KEY\u001b[0m\u001b[0;34m,\u001b[0m \u001b[0mCONSUMER_SECRET\u001b[0m\u001b[0;34m)\u001b[0m\u001b[0;34m\u001b[0m\u001b[0m\n\u001b[0m\u001b[1;32m      5\u001b[0m \u001b[0mauth\u001b[0m\u001b[0;34m.\u001b[0m\u001b[0mset_access_token\u001b[0m\u001b[0;34m(\u001b[0m\u001b[0mACCESS_TOKEN\u001b[0m\u001b[0;34m,\u001b[0m \u001b[0mACCESS_SECRET\u001b[0m\u001b[0;34m)\u001b[0m\u001b[0;34m\u001b[0m\u001b[0m\n\u001b[1;32m      6\u001b[0m \u001b[0mapi\u001b[0m \u001b[0;34m=\u001b[0m \u001b[0mtweepy\u001b[0m\u001b[0;34m.\u001b[0m\u001b[0mAPI\u001b[0m\u001b[0;34m(\u001b[0m\u001b[0mauth\u001b[0m\u001b[0;34m)\u001b[0m\u001b[0;34m\u001b[0m\u001b[0m\n",
      "\u001b[0;31mNameError\u001b[0m: name 'CONSUMER_KEY' is not defined"
     ]
    }
   ],
   "source": [
    "from tweepy.streaming import StreamListener\n",
    "from tweepy import OAuthHandler\n",
    "from tweepy import Stream\n",
    "auth = OAuthHandler(CONSUMER_KEY, CONSUMER_SECRET)\n",
    "auth.set_access_token(ACCESS_TOKEN, ACCESS_SECRET)\n",
    "api = tweepy.API(auth)"
   ]
  },
  {
   "cell_type": "code",
   "execution_count": 10,
   "metadata": {},
   "outputs": [
    {
     "ename": "NameError",
     "evalue": "name 'string' is not defined",
     "output_type": "error",
     "traceback": [
      "\u001b[0;31m---------------------------------------------------------------------------\u001b[0m",
      "\u001b[0;31mNameError\u001b[0m                                 Traceback (most recent call last)",
      "\u001b[0;32m<ipython-input-10-f1e93d8cc125>\u001b[0m in \u001b[0;36m<module>\u001b[0;34m()\u001b[0m\n\u001b[1;32m      7\u001b[0m \u001b[0maccess_token_secret\u001b[0m\u001b[0;34m=\u001b[0m\u001b[0;34m\"Y2gq5Yfcj54ycPXg3VLskNPpqo7nFa8XalKR06lPS3DEh\"\u001b[0m\u001b[0;34m\u001b[0m\u001b[0m\n\u001b[1;32m      8\u001b[0m \u001b[0;34m\u001b[0m\u001b[0m\n\u001b[0;32m----> 9\u001b[0;31m \u001b[0;32mclass\u001b[0m \u001b[0mStreamWatcherListener\u001b[0m\u001b[0;34m(\u001b[0m\u001b[0mStreamListener\u001b[0m\u001b[0;34m)\u001b[0m\u001b[0;34m:\u001b[0m\u001b[0;34m\u001b[0m\u001b[0m\n\u001b[0m\u001b[1;32m     10\u001b[0m     \"\"\" A listener handles tweets that are received from the stream.\n\u001b[1;32m     11\u001b[0m     \u001b[0mThis\u001b[0m \u001b[0;32mis\u001b[0m \u001b[0ma\u001b[0m \u001b[0mbasic\u001b[0m \u001b[0mlistener\u001b[0m \u001b[0mthat\u001b[0m \u001b[0mjust\u001b[0m \u001b[0mprints\u001b[0m \u001b[0mreceived\u001b[0m \u001b[0mtweets\u001b[0m \u001b[0mto\u001b[0m \u001b[0mstdout\u001b[0m\u001b[0;34m.\u001b[0m\u001b[0;34m\u001b[0m\u001b[0m\n",
      "\u001b[0;32m<ipython-input-10-f1e93d8cc125>\u001b[0m in \u001b[0;36mStreamWatcherListener\u001b[0;34m()\u001b[0m\n\u001b[1;32m     27\u001b[0m     \u001b[0;32mif\u001b[0m \u001b[0m__name__\u001b[0m \u001b[0;34m==\u001b[0m \u001b[0;34m'__main__'\u001b[0m\u001b[0;34m:\u001b[0m\u001b[0;34m\u001b[0m\u001b[0m\n\u001b[1;32m     28\u001b[0m         \u001b[0;32mtry\u001b[0m\u001b[0;34m:\u001b[0m\u001b[0;34m\u001b[0m\u001b[0m\n\u001b[0;32m---> 29\u001b[0;31m             \u001b[0mmain\u001b[0m\u001b[0;34m(\u001b[0m\u001b[0mstring\u001b[0m\u001b[0;34m)\u001b[0m\u001b[0;34m\u001b[0m\u001b[0m\n\u001b[0m\u001b[1;32m     30\u001b[0m         \u001b[0;32mexcept\u001b[0m \u001b[0mKeyboardInterrupt\u001b[0m\u001b[0;34m:\u001b[0m\u001b[0;34m\u001b[0m\u001b[0m\n\u001b[1;32m     31\u001b[0m             \u001b[0mprint\u001b[0m \u001b[0;34m(\u001b[0m\u001b[0;34m'\\nGoodbye!'\u001b[0m\u001b[0;34m)\u001b[0m\u001b[0;34m\u001b[0m\u001b[0m\n",
      "\u001b[0;31mNameError\u001b[0m: name 'string' is not defined"
     ]
    }
   ],
   "source": [
    "# Go to http://apps.twitter.com and create an app.\n",
    "consumer_key=\"8LEB3bJN43EReATwtroO6tPQG\"\n",
    "consumer_secret=\"f43lHy2MM0SrHNUUWJHtf47ghPNqTh09s3YvFv8EEUllOausTl\"\n",
    "\n",
    "# After the step above, you will be redirected to your app's page.\n",
    "access_token=\"862710988822372352-8PimcqcwBJE2PKz0INegcxymhEMwkrc\"\n",
    "access_token_secret=\"Y2gq5Yfcj54ycPXg3VLskNPpqo7nFa8XalKR06lPS3DEh\"\n",
    "\n",
    "class StreamWatcherListener(StreamListener):\n",
    "    \"\"\" A listener handles tweets that are received from the stream.\n",
    "    This is a basic listener that just prints received tweets to stdout.\n",
    "    \"\"\"\n",
    "\n",
    "    if __name__ == '__main__':\n",
    "        try:\n",
    "            main(string)\n",
    "        except KeyboardInterrupt:\n",
    "            print ('\\nGoodbye!') \n",
    "            \n",
    "    def main(string, tweet_count = 10):\n",
    "        l = StdOutListener()\n",
    "        auth = OAuthHandler(consumer_key, consumer_secret)\n",
    "        auth.set_access_token(access_token, access_token_secret)\n",
    "        stream = Stream(auth, l)\n",
    "        count = tweet_count\n",
    "        iterator = stream.filter(track=[string],locations=[-118.512139,34.003151,-118.433948,34.048961])\n",
    "        for tweet in iterator:\n",
    "            count -= 1\n",
    "            tweets.append(tweet)\n",
    "            if count <= 0:\n",
    "                break  \n",
    "    \n",
    "    def on_data(self, data):\n",
    "        print(data)\n",
    "        \n",
    "        return True\n",
    "\n",
    "    def on_error(self, status):\n",
    "        print(status)\n"
   ]
  },
  {
   "cell_type": "code",
   "execution_count": 11,
   "metadata": {
    "collapsed": true
   },
   "outputs": [],
   "source": [
    "def main(string, tweet_count = 10):\n",
    "    l = StdOutListener()\n",
    "    auth = OAuthHandler(consumer_key, consumer_secret)\n",
    "    auth.set_access_token(access_token, access_token_secret)\n",
    "    stream = Stream(auth, l)\n",
    "    count = tweet_count\n",
    "    iterator = stream.filter(track=[string],locations=[-118.512139,34.003151,-118.433948,34.048961])\n",
    "    for tweet in iterator:\n",
    "        count -= 1\n",
    "        tweets.append(tweet)\n",
    "        if count <= 0:\n",
    "            break  "
   ]
  },
  {
   "cell_type": "code",
   "execution_count": null,
   "metadata": {
    "collapsed": true
   },
   "outputs": [],
   "source": [
    "main()"
   ]
  },
  {
   "cell_type": "code",
   "execution_count": null,
   "metadata": {
    "collapsed": true
   },
   "outputs": [],
   "source": []
  },
  {
   "cell_type": "code",
   "execution_count": null,
   "metadata": {
    "collapsed": true
   },
   "outputs": [],
   "source": [
    "trump_tweet."
   ]
  },
  {
   "cell_type": "code",
   "execution_count": 43,
   "metadata": {
    "collapsed": true
   },
   "outputs": [],
   "source": [
    "los_angeles_bb = \"-118.6681759,33.5883113449,-117.5042724609,34.3373061\""
   ]
  },
  {
   "cell_type": "code",
   "execution_count": 38,
   "metadata": {},
   "outputs": [
    {
     "ename": "NameError",
     "evalue": "name 'los_angeles_bb' is not defined",
     "output_type": "error",
     "traceback": [
      "\u001b[0;31m---------------------------------------------------------------------------\u001b[0m",
      "\u001b[0;31mNameError\u001b[0m                                 Traceback (most recent call last)",
      "\u001b[0;32m<ipython-input-38-7141a8c57e40>\u001b[0m in \u001b[0;36m<module>\u001b[0;34m()\u001b[0m\n\u001b[1;32m     13\u001b[0m \u001b[0moauth\u001b[0m \u001b[0;34m=\u001b[0m \u001b[0mOAuth\u001b[0m\u001b[0;34m(\u001b[0m\u001b[0maccess_token\u001b[0m\u001b[0;34m,\u001b[0m\u001b[0maccess_token_secret\u001b[0m\u001b[0;34m,\u001b[0m \u001b[0mconsumer_key\u001b[0m\u001b[0;34m,\u001b[0m \u001b[0mconsumer_secret\u001b[0m\u001b[0;34m)\u001b[0m\u001b[0;34m\u001b[0m\u001b[0m\n\u001b[1;32m     14\u001b[0m \u001b[0mtwitter_stream\u001b[0m \u001b[0;34m=\u001b[0m \u001b[0mTwitterStream\u001b[0m\u001b[0;34m(\u001b[0m\u001b[0mauth\u001b[0m\u001b[0;34m=\u001b[0m\u001b[0moauth\u001b[0m\u001b[0;34m)\u001b[0m\u001b[0;34m\u001b[0m\u001b[0m\n\u001b[0;32m---> 15\u001b[0;31m \u001b[0miterator\u001b[0m \u001b[0;34m=\u001b[0m \u001b[0mtwitter_stream\u001b[0m\u001b[0;34m.\u001b[0m\u001b[0mstatuses\u001b[0m\u001b[0;34m.\u001b[0m\u001b[0mfilter\u001b[0m\u001b[0;34m(\u001b[0m\u001b[0mlocations\u001b[0m\u001b[0;34m=\u001b[0m\u001b[0mlos_angeles_bb\u001b[0m\u001b[0;34m)\u001b[0m\u001b[0;34m\u001b[0m\u001b[0m\n\u001b[0m\u001b[1;32m     16\u001b[0m \u001b[0mtweet_count\u001b[0m \u001b[0;34m=\u001b[0m \u001b[0;36m50\u001b[0m\u001b[0;34m\u001b[0m\u001b[0m\n\u001b[1;32m     17\u001b[0m \u001b[0;34m\u001b[0m\u001b[0m\n",
      "\u001b[0;31mNameError\u001b[0m: name 'los_angeles_bb' is not defined"
     ]
    }
   ],
   "source": [
    "import json\n",
    "from twitter import Twitter, OAuth, TwitterHTTPError, TwitterStream\n",
    "\n",
    "\n",
    "# Go to http://apps.twitter.com and create an app.\n",
    "consumer_key=\"8LEB3bJN43EReATwtroO6tPQG\"\n",
    "consumer_secret=\"f43lHy2MM0SrHNUUWJHtf47ghPNqTh09s3YvFv8EEUllOausTl\"\n",
    "\n",
    "# After the step above, you will be redirected to your app's page.\n",
    "access_token=\"862710988822372352-8PimcqcwBJE2PKz0INegcxymhEMwkrc\"\n",
    "access_token_secret=\"Y2gq5Yfcj54ycPXg3VLskNPpqo7nFa8XalKR06lPS3DEh\"\n",
    "\n",
    "oauth = OAuth(access_token,access_token_secret, consumer_key, consumer_secret)\n",
    "twitter_stream = TwitterStream(auth=oauth)\n",
    "iterator = twitter_stream.statuses.filter(locations=los_angeles_bb)\n",
    "tweet_count = 50\n",
    "\n",
    "tweets = []\n",
    "for tweet in iterator:\n",
    "    tweet_count -= 1\n",
    "    # Twitter Python Tool wraps the data returned by Twitter \n",
    "    # as a TwitterDictResponse object.\n",
    "    # We convert it back to the JSON format to print/score\n",
    "    tweets.append(tweet)\n",
    "    \n",
    "    # The command below will do pretty printing for JSON data, try it out\n",
    "    # print json.dumps(tweet, indent=4)\n",
    "       \n",
    "    if tweet_count <= 0:\n",
    "        break"
   ]
  },
  {
   "cell_type": "code",
   "execution_count": 39,
   "metadata": {},
   "outputs": [
    {
     "ename": "IndexError",
     "evalue": "list index out of range",
     "output_type": "error",
     "traceback": [
      "\u001b[0;31m---------------------------------------------------------------------------\u001b[0m",
      "\u001b[0;31mIndexError\u001b[0m                                Traceback (most recent call last)",
      "\u001b[0;32m<ipython-input-39-0181ebe100d0>\u001b[0m in \u001b[0;36m<module>\u001b[0;34m()\u001b[0m\n\u001b[0;32m----> 1\u001b[0;31m \u001b[0mtw\u001b[0m \u001b[0;34m=\u001b[0m \u001b[0mtweets\u001b[0m\u001b[0;34m[\u001b[0m\u001b[0;36m1\u001b[0m\u001b[0;34m]\u001b[0m\u001b[0;34m\u001b[0m\u001b[0m\n\u001b[0m",
      "\u001b[0;31mIndexError\u001b[0m: list index out of range"
     ]
    }
   ],
   "source": [
    "tw = tweets[1]"
   ]
  },
  {
   "cell_type": "code",
   "execution_count": 37,
   "metadata": {
    "scrolled": true
   },
   "outputs": [
    {
     "data": {
      "text/plain": [
       "['id',\n",
       " 'in_reply_to_user_id_str',\n",
       " 'geo',\n",
       " 'created_at',\n",
       " 'text',\n",
       " 'in_reply_to_user_id',\n",
       " 'coordinates',\n",
       " 'retweeted',\n",
       " 'in_reply_to_screen_name',\n",
       " 'timestamp_ms',\n",
       " 'favorited',\n",
       " 'filter_level',\n",
       " 'user',\n",
       " 'in_reply_to_status_id',\n",
       " 'place',\n",
       " 'entities',\n",
       " 'favorite_count',\n",
       " 'in_reply_to_status_id_str',\n",
       " 'retweet_count',\n",
       " 'id_str',\n",
       " 'source',\n",
       " 'lang',\n",
       " 'is_quote_status',\n",
       " 'contributors',\n",
       " 'truncated']"
      ]
     },
     "execution_count": 37,
     "metadata": {},
     "output_type": "execute_result"
    }
   ],
   "source": [
    "list(tw.keys())"
   ]
  },
  {
   "cell_type": "code",
   "execution_count": 38,
   "metadata": {},
   "outputs": [
    {
     "data": {
      "text/plain": [
       "'Why he gotta be so far 😫😫'"
      ]
     },
     "execution_count": 38,
     "metadata": {},
     "output_type": "execute_result"
    }
   ],
   "source": [
    "tw['text']"
   ]
  },
  {
   "cell_type": "code",
   "execution_count": 31,
   "metadata": {},
   "outputs": [
    {
     "name": "stdout",
     "output_type": "stream",
     "text": [
      "RT @roseybaybe: RETWEET if you can't wait for summer 😩☀️👙🌊\n",
      "\n",
      "https://t.co/Ll0sXJItAg ‼️ https://t.co/s49sHc5lvn\n",
      "RT @ChiIdhoodRuiner: Follow me so I can continue ruining your childhood one tweet at a time😂 https://t.co/AIvfCC6Q0s\n",
      "RT @ChiIdhoodRuiner: You can handstand.. but what about this? 😂 https://t.co/a2j7yLkWUM\n",
      "Trump’s budget proposal aims to cut all federal funds from Planned Parenthood https://t.co/oeBhOK97rw\n",
      ".@kumailn's advice to college grads: 'Have sex with an immigrant. We’re going through a tough time right now.’ https://t.co/Xd8DMlJAVD\n",
      "Trump calls Kim Jong Un a \"madman with nuclear weapons,\" according to transcript of Duterte call https://t.co/UzRWu6S8fp\n",
      "We're holding sublist auditions for Yoga &amp; Pilates Mat Teachers in the OC! When? 6/3. Where? YogaWorks Costa Mesa.… https://t.co/DT0UCgKExn\n",
      "Don’t miss this summer’s free Shakespeare in the Park performances https://t.co/kUUa1SKiyW https://t.co/g7HTkUDMHa\n",
      "How to Ditch the Sugar Habit https://t.co/DrblR6FmrB\n",
      "RT @buyslice: If you have a thing against cases, Slice is the perfect case for you!📱\n",
      "\n",
      "Sleek &amp; modern. \n",
      "👉🏽 https://t.co/pREoA60eI5📱 https://…\n",
      "RT @ltsFreshPrince: Such a classic scene 😂 https://t.co/R5HLdNBPSI\n",
      "RT @ltsFreshPrince: I'm will 😂 https://t.co/QYBkWEWbdL\n",
      "Who was Manchester Arena suicide bomber Salman Abedi? https://t.co/l7YqRxGdF4\n",
      "https://t.co/KJnvoUHEBz\n",
      "The Trump administration wants a new round of military base closures. Easier said than done. https://t.co/BXruSHXCgN\n",
      "Next time you see an ad on Google, the company might be able to tell if you go on to buy in a brick-and-mortar stor… https://t.co/Gcz5ZGrWYu\n",
      "20 best Airbnbs for family vacations https://t.co/PHBEHu69v8 https://t.co/CmWGVkpthT\n",
      "Pres. Trump expected to retain lawyer Marc Kasowitz as his private attorney for Russia inquiry, @ABC confirms.… https://t.co/g5YnU8JMJg\n",
      "Ex-CIA chief: Worries grew of Trump campaign contacts to Russia https://t.co/Wg6YnazwKV https://t.co/9zaVLAwd34\n",
      "How to double your muscle gains with any exercise: https://t.co/pMlPAk5YPd https://t.co/w2TZJACZBb\n"
     ]
    }
   ],
   "source": [
    "import tweepy\n",
    "\n",
    "auth = tweepy.OAuthHandler(consumer_key, consumer_secret)\n",
    "auth.set_access_token(access_token, access_token_secret)\n",
    "\n",
    "api = tweepy.API(auth)\n",
    "\n",
    "public_tweets = api.home_timeline()\n",
    "for tweet in public_tweets:\n",
    "    print (tweet.text)"
   ]
  },
  {
   "cell_type": "code",
   "execution_count": null,
   "metadata": {
    "collapsed": true
   },
   "outputs": [],
   "source": []
  },
  {
   "cell_type": "code",
   "execution_count": null,
   "metadata": {
    "collapsed": true
   },
   "outputs": [],
   "source": [
    "   def on_error(self, status_code):\n",
    "        print 'An error has occured! Status code = %s' % status_code\n",
    "        return True  # keep stream alive\n",
    "\n",
    "    def on_timeout(self):\n",
    "        print 'Snoozing Zzzzzz'\n",
    "    \n",
    "    \n",
    "    \n",
    "   "
   ]
  },
  {
   "cell_type": "code",
   "execution_count": null,
   "metadata": {
    "collapsed": true
   },
   "outputs": [],
   "source": [
    "    status_wrapper = TextWrapper(width=60, initial_indent='    ', subsequent_indent='    ')\n",
    "    \n",
    "    def on_status(self, status):\n",
    "        try:\n",
    "            print self.status_wrapper.fill(status.text)\n",
    "            print '\\n %s  %s  via %s\\n' % (status.author.screen_name, status.created_at, status.source)\n",
    "        except:\n",
    "            # Catch any unicode errors while printing to console\n",
    "            # and just ignore them to avoid breaking application.\n",
    "            pass"
   ]
  },
  {
   "cell_type": "code",
   "execution_count": null,
   "metadata": {
    "collapsed": true
   },
   "outputs": [],
   "source": [
    "    def on_status(self, status):\n",
    "\n",
    "    if status.author.lang == 'fr':\n",
    "\n",
    "        message = {'author_name': status.author.screen_name,\n",
    "\n",
    "                   'author_id': status.author.id,\n",
    "\n",
    "                   'id': status.id,\n",
    "\n",
    "                   'text': status.text,\n",
    "\n",
    "                   'retweeted': status.retweeted,\n",
    "\n",
    "                   'coordinates': status.coordinates,\n",
    "\n",
    "                   'time': int(time.time())}\n",
    "\n",
    "        self.callback(json.dumps(message), 'posts')"
   ]
  },
  {
   "cell_type": "code",
   "execution_count": 14,
   "metadata": {
    "collapsed": true
   },
   "outputs": [],
   "source": [
    "import pymongo\n",
    "cli = pymongo.MongoClient(host='54.191.217.176')"
   ]
  },
  {
   "cell_type": "code",
   "execution_count": 15,
   "metadata": {},
   "outputs": [
    {
     "data": {
      "text/plain": [
       "['admin', 'local']"
      ]
     },
     "execution_count": 15,
     "metadata": {},
     "output_type": "execute_result"
    }
   ],
   "source": [
    "cli.database_names()"
   ]
  },
  {
   "cell_type": "code",
   "execution_count": 16,
   "metadata": {
    "collapsed": true
   },
   "outputs": [],
   "source": [
    "twitter_db = cli.twitter_db\n",
    "tweets_collection = cli.twitter_db.tweets_collection"
   ]
  },
  {
   "cell_type": "code",
   "execution_count": 23,
   "metadata": {
    "collapsed": true
   },
   "outputs": [],
   "source": [
    "from tweepy.streaming import StreamListener\n",
    "from tweepy import OAuthHandler, Stream, API\n",
    "from tweepy import Stream\n",
    "auth = OAuthHandler(CONSUMER_KEY, CONSUMER_SECRET)\n",
    "auth.set_access_token(ACCESS_TOKEN, ACCESS_SECRET)\n",
    "api = API(auth)"
   ]
  },
  {
   "cell_type": "code",
   "execution_count": 24,
   "metadata": {
    "collapsed": true
   },
   "outputs": [],
   "source": [
    "# Go to http://apps.twitter.com and create an app.\n",
    "CONSUMER_KEY=\"8LEB3bJN43EReATwtroO6tPQG\"\n",
    "CONSUMER_SECRET=\"f43lHy2MM0SrHNUUWJHtf47ghPNqTh09s3YvFv8EEUllOausTl\"\n",
    "\n",
    "# After the step above, you will be redirected to your app's page.\n",
    "ACCESS_TOKEN=\"862710988822372352-8PimcqcwBJE2PKz0INegcxymhEMwkrc\"\n",
    "ACCESS_SECRET=\"Y2gq5Yfcj54ycPXg3VLskNPpqo7nFa8XalKR06lPS3DEh\""
   ]
  },
  {
   "cell_type": "code",
   "execution_count": 43,
   "metadata": {
    "collapsed": true
   },
   "outputs": [],
   "source": [
    "import tweepy\n",
    "#override tweepy.StreamListener to add logic to on_status\n",
    "class StreamListener(StreamListener):\n",
    "\n",
    "    def on_status(self, data):\n",
    "        print(data)\n",
    "    \n",
    "    def on_error(self, status_code):\n",
    "        if status_code == 420:\n",
    "            #returning False in on_data disconnects the stream\n",
    "            return False\n",
    "if __name__ == '__main__':        \n",
    "    l = StreamListener()\n",
    "    auth = OAuthHandler(consumer_key, consumer_secret)\n",
    "    auth.set_access_token(access_token, access_token_secret)\n",
    "    stream = Stream(auth, l)\n",
    "    stream.filter(track=['trump'], async=True)\n",
    "    #tweet_count = 5\"\n",
    "#tweets = []\n",
    "\n",
    "#count = tweet_count\n",
    "\n",
    "\n",
    "#for tweet in iterator:\n",
    "    \n",
    "    #count -= 1\n",
    "    #print(tweet)\n",
    "    #tweets.append(tweet)\n",
    "    #if count <= 0:\n",
    "    #    break \n",
    "    "
   ]
  },
  {
   "cell_type": "code",
   "execution_count": null,
   "metadata": {
    "collapsed": true
   },
   "outputs": [],
   "source": [
    "def on_data(self, data):\n",
    "        print(data)\n",
    "        \n",
    "        return True\n",
    "\n",
    "    def on_error(self, status):\n",
    "        print(status)"
   ]
  },
  {
   "cell_type": "code",
   "execution_count": 32,
   "metadata": {},
   "outputs": [
    {
     "name": "stdout",
     "output_type": "stream",
     "text": [
      "Italian Sausage &amp; Veggie Pasta https://t.co/VZ0oWoWkIx\n",
      "Proud papa https://t.co/q6V2BwKWvP\n",
      "Get out &amp; experience the world: Where to go in July for 'the journey' https://t.co/s1hvU7IUZe #lp #travel https://t.co/uZsUsJemAe\n",
      "17 places you absolutely have to go to in 2017 https://t.co/SAWbMR4TZQ https://t.co/gUDyuiPjUm\n",
      "#nom I don't eat lots of meat, but when I do I choose grass fed beef. Meal plans &amp; workouts:… https://t.co/LjuomGeek4\n",
      "RT @SharecareInc: Good news: exercise and regular physical activity are directly associated w longevity and enhanced quality of life: https…\n",
      "Trump official in charge of food stamps departs from Trump’s plan to gut the program https://t.co/pTDEv4JLhs\n",
      "Nato and Trump https://t.co/dqc5XzerSt\n",
      "Democrats have flipped two statehouse seats in New Hampshire and New York in districts won by Pres. Trump.… https://t.co/JC1PRwytig\n",
      "Stop worrying about how much more sex everyone else is having: https://t.co/4Aa0bazQz7 https://t.co/w4gMhoNf4O\n",
      "Waiting for take-off https://t.co/n4jK4kwPzP\n",
      "RT @yesahdotcom: All of our wood watches are 50% now off at https://t.co/N6Ul3sr8L0 😱😍🔥 We ship worldwide! 🌎 https://t.co/fguIVAt9mT\n",
      "RT @memetribute: Customer: VSHHHHHHH\n",
      "Barber: Say no more https://t.co/ddDOnu7bfI\n",
      "RT @drunk: When you're drunk af and someone asks if you want water https://t.co/ZfxqVJGQGI\n",
      "The \"Game of Thrones\" season seven trailer has arrived and \"the great war is here\" https://t.co/m1BlnSqzlN\n",
      "Over 100 strangers attended the funeral of a veteran because he had no family left of his own https://t.co/xCRHsZDaFf\n",
      "honestly, goals https://t.co/Ux5x9gmUfs\n",
      "Halfway house residents found two men dead from overdoses — their drug counselors https://t.co/EAXyhWfYv4\n",
      "Father of Manchester bomber tells Reuters his son was not a member of Islamic State https://t.co/GFLpfFH0kg https://t.co/pJLt5iPvVA\n",
      "i just realized i lost all my tweet drafts when i got a new phone and i'm CRUSHED. fuck my photos and contacts, I NEED MY DRAFTS!!!!!!\n"
     ]
    }
   ],
   "source": [
    "import tweepy\n",
    "\n",
    "auth = tweepy.OAuthHandler(consumer_key, consumer_secret)\n",
    "auth.set_access_token(access_token, access_token_secret)\n",
    "\n",
    "api = tweepy.API(auth)\n",
    "\n",
    "public_tweets = api.home_timeline()\n",
    "for tweet in public_tweets:\n",
    "    print (tweet.text)"
   ]
  },
  {
   "cell_type": "code",
   "execution_count": 45,
   "metadata": {},
   "outputs": [
    {
     "name": "stdout",
     "output_type": "stream",
     "text": [
      "420\n",
      "420\n",
      "420\n",
      "420\n",
      "420\n",
      "420\n"
     ]
    },
    {
     "ename": "KeyboardInterrupt",
     "evalue": "",
     "output_type": "error",
     "traceback": [
      "\u001b[0;31m---------------------------------------------------------------------------\u001b[0m",
      "\u001b[0;31mKeyboardInterrupt\u001b[0m                         Traceback (most recent call last)",
      "\u001b[0;32m<ipython-input-45-111ceb8df3aa>\u001b[0m in \u001b[0;36m<module>\u001b[0;34m()\u001b[0m\n\u001b[1;32m     30\u001b[0m \u001b[0;34m\u001b[0m\u001b[0m\n\u001b[1;32m     31\u001b[0m     \u001b[0mstream\u001b[0m \u001b[0;34m=\u001b[0m \u001b[0mStream\u001b[0m\u001b[0;34m(\u001b[0m\u001b[0mauth\u001b[0m\u001b[0;34m,\u001b[0m \u001b[0ml\u001b[0m\u001b[0;34m)\u001b[0m\u001b[0;34m\u001b[0m\u001b[0m\n\u001b[0;32m---> 32\u001b[0;31m     \u001b[0mstream\u001b[0m\u001b[0;34m.\u001b[0m\u001b[0mfilter\u001b[0m\u001b[0;34m(\u001b[0m\u001b[0mtrack\u001b[0m\u001b[0;34m=\u001b[0m\u001b[0;34m[\u001b[0m\u001b[0;34m'trump'\u001b[0m\u001b[0;34m]\u001b[0m\u001b[0;34m)\u001b[0m\u001b[0;34m\u001b[0m\u001b[0m\n\u001b[0m",
      "\u001b[0;32m/opt/conda/lib/python3.5/site-packages/tweepy/streaming.py\u001b[0m in \u001b[0;36mfilter\u001b[0;34m(self, follow, track, async, locations, stall_warnings, languages, encoding, filter_level)\u001b[0m\n\u001b[1;32m    443\u001b[0m         \u001b[0mself\u001b[0m\u001b[0;34m.\u001b[0m\u001b[0msession\u001b[0m\u001b[0;34m.\u001b[0m\u001b[0mparams\u001b[0m \u001b[0;34m=\u001b[0m \u001b[0;34m{\u001b[0m\u001b[0;34m'delimited'\u001b[0m\u001b[0;34m:\u001b[0m \u001b[0;34m'length'\u001b[0m\u001b[0;34m}\u001b[0m\u001b[0;34m\u001b[0m\u001b[0m\n\u001b[1;32m    444\u001b[0m         \u001b[0mself\u001b[0m\u001b[0;34m.\u001b[0m\u001b[0mhost\u001b[0m \u001b[0;34m=\u001b[0m \u001b[0;34m'stream.twitter.com'\u001b[0m\u001b[0;34m\u001b[0m\u001b[0m\n\u001b[0;32m--> 445\u001b[0;31m         \u001b[0mself\u001b[0m\u001b[0;34m.\u001b[0m\u001b[0m_start\u001b[0m\u001b[0;34m(\u001b[0m\u001b[0masync\u001b[0m\u001b[0;34m)\u001b[0m\u001b[0;34m\u001b[0m\u001b[0m\n\u001b[0m\u001b[1;32m    446\u001b[0m \u001b[0;34m\u001b[0m\u001b[0m\n\u001b[1;32m    447\u001b[0m     def sitestream(self, follow, stall_warnings=False,\n",
      "\u001b[0;32m/opt/conda/lib/python3.5/site-packages/tweepy/streaming.py\u001b[0m in \u001b[0;36m_start\u001b[0;34m(self, async)\u001b[0m\n\u001b[1;32m    359\u001b[0m             \u001b[0mself\u001b[0m\u001b[0;34m.\u001b[0m\u001b[0m_thread\u001b[0m\u001b[0;34m.\u001b[0m\u001b[0mstart\u001b[0m\u001b[0;34m(\u001b[0m\u001b[0;34m)\u001b[0m\u001b[0;34m\u001b[0m\u001b[0m\n\u001b[1;32m    360\u001b[0m         \u001b[0;32melse\u001b[0m\u001b[0;34m:\u001b[0m\u001b[0;34m\u001b[0m\u001b[0m\n\u001b[0;32m--> 361\u001b[0;31m             \u001b[0mself\u001b[0m\u001b[0;34m.\u001b[0m\u001b[0m_run\u001b[0m\u001b[0;34m(\u001b[0m\u001b[0;34m)\u001b[0m\u001b[0;34m\u001b[0m\u001b[0m\n\u001b[0m\u001b[1;32m    362\u001b[0m \u001b[0;34m\u001b[0m\u001b[0m\n\u001b[1;32m    363\u001b[0m     \u001b[0;32mdef\u001b[0m \u001b[0mon_closed\u001b[0m\u001b[0;34m(\u001b[0m\u001b[0mself\u001b[0m\u001b[0;34m,\u001b[0m \u001b[0mresp\u001b[0m\u001b[0;34m)\u001b[0m\u001b[0;34m:\u001b[0m\u001b[0;34m\u001b[0m\u001b[0m\n",
      "\u001b[0;32m/opt/conda/lib/python3.5/site-packages/tweepy/streaming.py\u001b[0m in \u001b[0;36m_run\u001b[0;34m(self)\u001b[0m\n\u001b[1;32m    253\u001b[0m                         self.retry_time = max(self.retry_420_start,\n\u001b[1;32m    254\u001b[0m                                               self.retry_time)\n\u001b[0;32m--> 255\u001b[0;31m                     \u001b[0msleep\u001b[0m\u001b[0;34m(\u001b[0m\u001b[0mself\u001b[0m\u001b[0;34m.\u001b[0m\u001b[0mretry_time\u001b[0m\u001b[0;34m)\u001b[0m\u001b[0;34m\u001b[0m\u001b[0m\n\u001b[0m\u001b[1;32m    256\u001b[0m                     self.retry_time = min(self.retry_time * 2,\n\u001b[1;32m    257\u001b[0m                                           self.retry_time_cap)\n",
      "\u001b[0;31mKeyboardInterrupt\u001b[0m: "
     ]
    }
   ],
   "source": [
    "from __future__ import absolute_import, print_function\n",
    "\n",
    "from tweepy.streaming import StreamListener\n",
    "from tweepy import OAuthHandler\n",
    "from tweepy import Stream\n",
    "\n",
    "# Go to http://apps.twitter.com and create an app.\n",
    "consumer_key=\"8LEB3bJN43EReATwtroO6tPQG\"\n",
    "consumer_secret=\"f43lHy2MM0SrHNUUWJHtf47ghPNqTh09s3YvFv8EEUllOausTl\"\n",
    "\n",
    "# After the step above, you will be redirected to your app's page.\n",
    "access_token=\"862710988822372352-8PimcqcwBJE2PKz0INegcxymhEMwkrc\"\n",
    "access_token_secret=\"Y2gq5Yfcj54ycPXg3VLskNPpqo7nFa8XalKR06lPS3DEh\"\n",
    "\n",
    "class StdOutListener(StreamListener):\n",
    "    \"\"\" A listener handles tweets that are received from the stream.\n",
    "    This is a basic listener that just prints received tweets to stdout.\n",
    "    \"\"\"\n",
    "    def on_data(self, data):\n",
    "        print(data)\n",
    "        return True\n",
    "\n",
    "    def on_error(self, status):\n",
    "        print(status)\n",
    "\n",
    "if __name__ == '__main__':\n",
    "    l = StdOutListener()\n",
    "    auth = OAuthHandler(consumer_key, consumer_secret)\n",
    "    auth.set_access_token(access_token, access_token_secret)\n",
    "\n",
    "    stream = Stream(auth, l)\n",
    "    stream.filter(track=['trump'])"
   ]
  },
  {
   "cell_type": "code",
   "execution_count": 1,
   "metadata": {},
   "outputs": [
    {
     "name": "stdout",
     "output_type": "stream",
     "text": [
      "Collecting pymongo\n",
      "  Downloading pymongo-3.4.0-cp35-cp35m-manylinux1_x86_64.whl (359kB)\n",
      "\u001b[K    100% |████████████████████████████████| 368kB 173kB/s ta 0:00:01    57% |██████████████████▎             | 204kB 1.6MB/s eta 0:00:01\n",
      "\u001b[?25hCollecting twitter\n",
      "  Downloading twitter-1.17.1-py2.py3-none-any.whl (55kB)\n",
      "\u001b[K    100% |████████████████████████████████| 61kB 486kB/s ta 0:00:01\n",
      "\u001b[?25hInstalling collected packages: pymongo, twitter\n",
      "Successfully installed pymongo-3.4.0 twitter-1.17.1\n",
      "\u001b[33mYou are using pip version 8.1.2, however version 9.0.1 is available.\n",
      "You should consider upgrading via the 'pip install --upgrade pip' command.\u001b[0m\n"
     ]
    }
   ],
   "source": [
    "!pip install pymongo twitter\n",
    "CONSUMER_KEY = '0vqmq8vkBGwFaOOQJPkk75wj9'\n",
    "CONSUMER_SECRET = 'F6FLN4514JXyq8IPmtIFQA9TI5TqJ3XFcxATrRhZ2GVQNDNhHf'\n",
    "ACCESS_TOKEN = '862710988822372352-dC0d1LzeLd5wodTA3BqjRtT9U2f7TQR'\n",
    "ACCESS_SECRET = 'J71AYBbH69nJCkqwPKV0YrqTDiUqjz0yOhNDJ9BGZ02kz'"
   ]
  },
  {
   "cell_type": "code",
   "execution_count": 2,
   "metadata": {
    "collapsed": true
   },
   "outputs": [],
   "source": [
    "los_angeles_bb = \"-118.6681759,33.5883113449,-117.5042724609,34.3373061\""
   ]
  },
  {
   "cell_type": "code",
   "execution_count": 3,
   "metadata": {
    "collapsed": true
   },
   "outputs": [],
   "source": []
  },
  {
   "cell_type": "code",
   "execution_count": 18,
   "metadata": {},
   "outputs": [
    {
     "name": "stdout",
     "output_type": "stream",
     "text": [
      "I just ate my weight in oranges.\n",
      "Change isn't positive or negative; change is neutral our response is positive or negative. @JohnMaxwellTeam #GreatQuote #PositiveLifeStance\n",
      "Mes potes qui m'disent je veux pas de filles mais qui ont pour meufs des ex escort, prostituées, stripteaseuses etc... j'vous comprends pas\n",
      "I want to go shopping but I have to stay home and drain wallets. 🤷🏻‍♀️😭 haha poor me 🙃 oh well. Come get fucked 💵 o… https://t.co/G2E6OphkQ0\n",
      "@CBSEveningNews @MajorCBS Trump's bad mouthing Germany ruined everything!!!\n",
      "@TriciaWhatley @TheRickBaker Quite a fun vampire movie. A must if you haven't seen it!😈 https://t.co/tzwZv4z9ce\n",
      "Love is everywhere #143 💋 @ Runyon Canyon Park https://t.co/NJO7Vs1vlo\n",
      "@UAassociation @HouDefenders https://t.co/R72CEhCMne\n",
      "@GaryLegum \"Why Hillary shouldn't run in 2020: My piece\" coming soon prolly\n",
      "how they gonna play u like that?! 💁🏻😽 https://t.co/JWHsWmRGuR\n"
     ]
    }
   ],
   "source": [
    "for i in range(len(tweets)):\n",
    "    tw = tweets[i]\n",
    "    print(tw['text'])"
   ]
  },
  {
   "cell_type": "code",
   "execution_count": 7,
   "metadata": {},
   "outputs": [
    {
     "ename": "AttributeError",
     "evalue": "'list' object has no attribute 'keys'",
     "output_type": "error",
     "traceback": [
      "\u001b[0;31m---------------------------------------------------------------------------\u001b[0m",
      "\u001b[0;31mAttributeError\u001b[0m                            Traceback (most recent call last)",
      "\u001b[0;32m<ipython-input-7-3a954db9526b>\u001b[0m in \u001b[0;36m<module>\u001b[0;34m()\u001b[0m\n\u001b[0;32m----> 1\u001b[0;31m \u001b[0mtw\u001b[0m\u001b[0;34m.\u001b[0m\u001b[0mkeys\u001b[0m\u001b[0;34m(\u001b[0m\u001b[0;34m)\u001b[0m\u001b[0;34m\u001b[0m\u001b[0m\n\u001b[0m",
      "\u001b[0;31mAttributeError\u001b[0m: 'list' object has no attribute 'keys'"
     ]
    }
   ],
   "source": []
  },
  {
   "cell_type": "code",
   "execution_count": 15,
   "metadata": {
    "collapsed": true
   },
   "outputs": [],
   "source": [
    "import psycopg2 as pg2\n",
    "import psycopg2.extras as pgex\n",
    "this_host='54.191.217.176'\n",
    "this_user='postgres'\n",
    "this_password='postgres'\n",
    "conn = pg2.connect(host = this_host, \n",
    "                        user = this_user,\n",
    "                        password = this_password)\n",
    "curs = conn.cursor(cursor_factory=pgex.RealDictCursor)"
   ]
  },
  {
   "cell_type": "code",
   "execution_count": null,
   "metadata": {
    "collapsed": true
   },
   "outputs": [],
   "source": []
  }
 ],
 "metadata": {
  "kernelspec": {
   "display_name": "Python 3",
   "language": "python",
   "name": "python3"
  },
  "language_info": {
   "codemirror_mode": {
    "name": "ipython",
    "version": 3
   },
   "file_extension": ".py",
   "mimetype": "text/x-python",
   "name": "python",
   "nbconvert_exporter": "python",
   "pygments_lexer": "ipython3",
   "version": "3.5.2"
  }
 },
 "nbformat": 4,
 "nbformat_minor": 2
}
