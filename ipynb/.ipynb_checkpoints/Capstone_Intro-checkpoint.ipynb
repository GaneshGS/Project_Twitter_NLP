{
 "cells": [
  {
   "cell_type": "markdown",
   "metadata": {},
   "source": [
    "## Capstone Project: Combining Twitter and News Data for Event Detection and Sentiment Analysis\n",
    "\n",
    "### Introduction\n",
    "\n",
    "On Twitter, million of general users, varified accounts such as new agent, organization and public figures are constantly publishing new tweets from breaking news, local events, to personal feelings."
   ]
  },
  {
   "cell_type": "markdown",
   "metadata": {},
   "source": [
    "#### Detecting Events\n",
    "By taking advantage of speed and coverage of social media, we can detect event and people's feeling towards the event by listening to incoming tweets.\n",
    "As tweet is often associated with spatial and temporal information. We can detect when and where the event is happening. \n",
    "\n",
    "#### Analyzing Events\n",
    "People from different place may tweet about the same event/ news. As collecting event from different area, we may be able to find a pattern of top interested events/ news for the area and general feeling towards the same incidents. "
   ]
  },
  {
   "cell_type": "markdown",
   "metadata": {},
   "source": [
    "### Data\n",
    "#### Twitter Real Time Tweets\n",
    "Teepy StreamListener is Twitter's API for collecting tweets real time tweets.  The StreamListener can stream on designated area by querying using location information and/or key words."
   ]
  },
  {
   "cell_type": "markdown",
   "metadata": {},
   "source": [
    "#### The GDELT Project\n",
    "GDELT Project monitors the world's broadcast, print, and web news. \n",
    "GDELT Event Database records over 300 categories of physical activities around the world \"georeferenced to the city or mountaintop\" updated every 15 minutes.\n",
    "\n",
    "The GDELT Event databse can be query, export through Google BigQuery using standard SQL"
   ]
  },
  {
   "cell_type": "markdown",
   "metadata": {},
   "source": [
    "#### Data Collection\n",
    "<br>Collect Twitter Stream Data on Mongo DB using geo-bounding boxs targeting near by metropolitan and rural area; majoy cities from different states\n",
    "<br>https://github.com/giorgioinf/twitter-stream-ml\n",
    "\n",
    "<br>Once collect enough tweets, use GDELT Google BigQuery to look for local event/ news in the same timeframe."
   ]
  },
  {
   "cell_type": "markdown",
   "metadata": {
    "collapsed": true
   },
   "source": [
    "### Infrastructure \n",
    "#### docker\n",
    "#### postgres\n",
    "#### mongo \n"
   ]
  },
  {
   "cell_type": "markdown",
   "metadata": {},
   "source": [
    "### Analysis\n",
    "\n",
    "#### Classifying Tweets\n",
    "<br>By type, location, time, keywords, userid\n",
    "<br>possibly categorize by emotion - love, joy, sadness, suprise, anger, and fear\n",
    "\n",
    "#### Sentimemt Analysis\n",
    "use NLTK text classification to deternmind tweets expresses positive, negative, or nutral sentiment\n",
    "<br> http://text-processing.com/demo/sentiment/\n",
    "<br> https://www.ravikiranj.net/posts/2012/code/how-build-twitter-sentiment-analyzer/\n",
    "\n",
    "#### Location Prediction\n",
    "Based on above classification to predict what city/ area new tweets are coming from.\n"
   ]
  },
  {
   "cell_type": "code",
   "execution_count": null,
   "metadata": {
    "collapsed": true
   },
   "outputs": [],
   "source": []
  }
 ],
 "metadata": {
  "kernelspec": {
   "display_name": "Python 3",
   "language": "python",
   "name": "python3"
  },
  "language_info": {
   "codemirror_mode": {
    "name": "ipython",
    "version": 3
   },
   "file_extension": ".py",
   "mimetype": "text/x-python",
   "name": "python",
   "nbconvert_exporter": "python",
   "pygments_lexer": "ipython3",
   "version": "3.5.2"
  }
 },
 "nbformat": 4,
 "nbformat_minor": 2
}
