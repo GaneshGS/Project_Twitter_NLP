{
 "cells": [
  {
   "cell_type": "code",
   "execution_count": 3,
   "metadata": {
    "collapsed": true
   },
   "outputs": [],
   "source": [
    "import pandas as pd\n",
    "import re\n",
    "from spacy.en import English\n",
    "nlp = English()"
   ]
  },
  {
   "cell_type": "code",
   "execution_count": 2,
   "metadata": {
    "collapsed": true
   },
   "outputs": [],
   "source": [
    "def c(text):\n",
    "    text = re.sub(\"'\",\"''\", text)\n",
    "    text = re.sub(\"{\",\"\\{\",text)\n",
    "    text = re.sub(\"}\",\"\\}\",text)\n",
    "    return text"
   ]
  },
  {
   "cell_type": "code",
   "execution_count": null,
   "metadata": {
    "collapsed": true
   },
   "outputs": [],
   "source": [
    "vector.vector.shape"
   ]
  },
  {
   "cell_type": "code",
   "execution_count": null,
   "metadata": {},
   "outputs": [
    {
     "name": "stdout",
     "output_type": "stream",
     "text": [
      "total tweet: 211812\n",
      "1   0.0799935\n",
      "2   0.0515456\n",
      "3   0.0672671\n",
      "4   -0.0942957\n",
      "5   -0.0981933\n",
      "6   -0.0828967\n",
      "7   -0.0453329\n",
      "8   0.0059478\n",
      "9   0.0749068\n",
      "10   0.0932195\n",
      "11   -0.187207\n",
      "12   0.0562583\n",
      "13   -0.01058\n",
      "14   0.0321916\n",
      "15   0.0439177\n",
      "16   -0.035147\n",
      "17   -0.147376\n",
      "18   -0.0309433\n",
      "19   -0.0950723\n",
      "20   -0.0735873\n",
      "21   0.0436862\n",
      "22   0.066924\n",
      "23   -0.114715\n",
      "24   -0.0389908\n",
      "25   -0.00529838\n",
      "26   -0.0864264\n",
      "27   -0.0248595\n",
      "28   -0.0658426\n",
      "29   -0.0415276\n",
      "30   -0.0417482\n",
      "31   -0.164814\n",
      "32   -0.128848\n",
      "33   -0.0612841\n",
      "34   0.0\n",
      "35   -0.0709848\n",
      "36   -0.195394\n",
      "37   -0.139595\n"
     ]
    }
   ],
   "source": [
    "import pandas as pd\n",
    "import re\n",
    "from spacy.en import English\n",
    "nlp = English()\n",
    "\n",
    "def c(text):\n",
    "    text = re.sub(\"'\",\"''\", text)\n",
    "    text = re.sub(\"{\",\"\\{\",text)\n",
    "    text = re.sub(\"}\",\"\\}\",text)\n",
    "    return text\n",
    "\n",
    "from tqdm import tqdm\n",
    "import psycopg2 as pg2\n",
    "import psycopg2.extras as pgex\n",
    "from psycopg2.extras import RealDictCursor\n",
    "this_host='34.211.59.66'\n",
    "this_user='postgres'\n",
    "this_password='postgres'\n",
    "\n",
    "con_ct = pg2.connect(host = this_host,user = this_user,password = this_password)\n",
    "sql_ct = '''select count (*) from tweets where vector is null; '''\n",
    "cur_ct = con_ct.cursor()\n",
    "cur_ct.execute(sql_ct)\n",
    "ct = cur_ct.fetchall()\n",
    "\n",
    "#total english tweets = n\n",
    "n = ct[0][0]\n",
    "print('total tweet:',n)\n",
    "cur_ct.close()\n",
    "\n",
    "conn = pg2.connect(host = this_host, user = this_user,password = this_password)\n",
    "cur = conn.cursor(cursor_factory=RealDictCursor)\n",
    "\n",
    "count = 0\n",
    "while count < n: \n",
    "    sql_select = '''select * from tweets where vector is null limit 1 offset {}'''.format(count)\n",
    "    count += 1\n",
    "    #cur = conn.cursor()\n",
    "    cur.execute(sql_select)\n",
    "    #print(cur.fetchall())\n",
    "    row = cur.fetchall()[0]\n",
    "    \n",
    "    t = c(row['tweet_content'])\n",
    "    v = nlp(row['tweet_content']) \n",
    "    v_arr = v.vector\n",
    "    v_bin = pg2.Binary(v_arr)\n",
    "    sql_update = '''\n",
    "    update tweets\n",
    "    set vector = {}\n",
    "    where tweet_content = '{}';\n",
    "    commit;'''.format(v_bin,t)\n",
    "    cur.execute(sql_update)\n",
    "    print(count,' ',v_arr[0])\n",
    "\n",
    "conn.close()    \n",
    "print('done') "
   ]
  },
  {
   "cell_type": "code",
   "execution_count": 2,
   "metadata": {},
   "outputs": [
    {
     "data": {
      "text/plain": [
       "('870731768202117120',\n",
       " \"@foxnews is obsessed with @hillaryclinton and @kathygriffin it's all they talk about.  russia isn't in their vocabulary.\",\n",
       " None,\n",
       " 'False',\n",
       " 'Fri Jun 02 20:00:05 +0000 2017',\n",
       " None,\n",
       " 'United States',\n",
       " 'city',\n",
       " None,\n",
       " 'pacific time (us & canada)',\n",
       " 'en',\n",
       " None,\n",
       " 'None',\n",
       " 'beverly hills, ca',\n",
       " 'GeminiSpirits',\n",
       " 0,\n",
       " 0.0,\n",
       " 0.0,\n",
       " None,\n",
       " \" is obsessed with and it's all they talk about. russia isn't in their vocabulary.\",\n",
       " None)"
      ]
     },
     "execution_count": 2,
     "metadata": {},
     "output_type": "execute_result"
    }
   ],
   "source": [
    "a = [('870731768202117120', \"@foxnews is obsessed with @hillaryclinton and @kathygriffin it's all they talk about.  russia isn't in their vocabulary.\", None, 'False', 'Fri Jun 02 20:00:05 +0000 2017', None, 'United States', 'city', None, 'pacific time (us & canada)', 'en', None, 'None', 'beverly hills, ca', 'GeminiSpirits', 0, 0.0, 0.0, None, \" is obsessed with and it's all they talk about. russia isn't in their vocabulary.\", None)]\n",
    "a[0]"
   ]
  },
  {
   "cell_type": "code",
   "execution_count": 23,
   "metadata": {
    "collapsed": true
   },
   "outputs": [],
   "source": [
    "conn.close()"
   ]
  },
  {
   "cell_type": "code",
   "execution_count": 1,
   "metadata": {
    "collapsed": true
   },
   "outputs": [],
   "source": [
    "from tqdm import tqdm\n",
    "import psycopg2 as pg2\n",
    "import psycopg2.extras as pgex\n",
    "this_host='54.69.228.16'\n",
    "this_user='postgres'\n",
    "this_password='postgres'\n",
    "conn = pg2.connect(host = this_host, user = this_user,password = this_password)\n",
    "con_ct = pg2.connect(host = this_host,user = this_user,password = this_password)\n",
    "con_ct.close()\n",
    "conn.close()    "
   ]
  },
  {
   "cell_type": "code",
   "execution_count": null,
   "metadata": {
    "collapsed": true
   },
   "outputs": [],
   "source": [
    "content_vecs = np.array([nlp(i).vector for i in df['tweet_content']])\n",
    "content_vecs.shape"
   ]
  },
  {
   "cell_type": "code",
   "execution_count": null,
   "metadata": {
    "collapsed": true
   },
   "outputs": [],
   "source": [
    "sql_select = '''select * from tweets_demo where lang = 'en';'''\n",
    "\n",
    "sql_select_1 = '''select * from tweets_demo where lang = 'en' and vector is null;'''\n",
    "\n",
    "import psycopg2 as pg2\n",
    "import psycopg2.extras as pgex\n",
    "this_host='54.69.228.16'\n",
    "this_user='postgres'\n",
    "this_password='postgres'\n",
    "conn = pg2.connect(host = this_host, \n",
    "                        user = this_user,\n",
    "                        password = this_password)\n",
    "cur = conn.cursor(cursor_factory=pgex.RealDictCursor)\n",
    "cur.execute(sql_select_1)\n",
    "rows = cur.fetchall()\n",
    "conn.close()\n",
    "df = pd.DataFrame(rows)"
   ]
  },
  {
   "cell_type": "code",
   "execution_count": null,
   "metadata": {
    "collapsed": true
   },
   "outputs": [],
   "source": [
    "len(df)"
   ]
  },
  {
   "cell_type": "code",
   "execution_count": null,
   "metadata": {
    "collapsed": true
   },
   "outputs": [],
   "source": [
    "df[['tweet_content']].values"
   ]
  },
  {
   "cell_type": "code",
   "execution_count": null,
   "metadata": {
    "collapsed": true
   },
   "outputs": [],
   "source": [
    "arr = df[['tweet_content']][df['vector'].isnull()].values"
   ]
  },
  {
   "cell_type": "code",
   "execution_count": null,
   "metadata": {
    "collapsed": true
   },
   "outputs": [],
   "source": [
    "len(arr)"
   ]
  },
  {
   "cell_type": "code",
   "execution_count": null,
   "metadata": {
    "collapsed": true
   },
   "outputs": [],
   "source": [
    "arr[0][0]"
   ]
  },
  {
   "cell_type": "code",
   "execution_count": null,
   "metadata": {
    "collapsed": true,
    "scrolled": true
   },
   "outputs": [],
   "source": [
    "nlp(arr[0][0]).vector"
   ]
  },
  {
   "cell_type": "code",
   "execution_count": null,
   "metadata": {
    "collapsed": true
   },
   "outputs": [],
   "source": []
  }
 ],
 "metadata": {
  "kernelspec": {
   "display_name": "Python 3",
   "language": "python",
   "name": "python3"
  },
  "language_info": {
   "codemirror_mode": {
    "name": "ipython",
    "version": 3
   },
   "file_extension": ".py",
   "mimetype": "text/x-python",
   "name": "python",
   "nbconvert_exporter": "python",
   "pygments_lexer": "ipython3",
   "version": "3.5.2"
  }
 },
 "nbformat": 4,
 "nbformat_minor": 2
}
