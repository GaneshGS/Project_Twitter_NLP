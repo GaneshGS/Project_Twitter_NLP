{
 "cells": [
  {
   "cell_type": "code",
   "execution_count": null,
   "metadata": {
    "collapsed": true
   },
   "outputs": [],
   "source": [
    "import pandas as pd\n",
    "\n",
    "from tqdm import tqdm\n",
    "import psycopg2 as pg2\n",
    "import psycopg2.extras as pgex\n",
    "from psycopg2.extras import RealDictCursor\n",
    "this_host='34.211.59.66'\n",
    "this_user='postgres'\n",
    "this_password='postgres'\n",
    "\n",
    "con_ct = pg2.connect(host = this_host,user = this_user,password = this_password)\n",
    "sql_nodate = '''update tweets set time = substring(created_at,11,9);\n",
    "'''\n",
    "cur_ct = con_ct.cursor()\n",
    "cur_ct.execute(sql_ct)\n",
    "ct = cur_ct.fetchall()\n",
    "\n",
    "#total english tweets = n\n",
    "n = ct[0][0]\n",
    "print('total tweet:',n)\n",
    "cur_ct.close()\n",
    "\n",
    "conn = pg2.connect(host = this_host, user = this_user,password = this_password)\n",
    "cur = conn.cursor(cursor_factory=RealDictCursor)\n",
    "\n",
    "\n",
    "count = 0\n",
    "while count < n: \n",
    "    sql_select = '''select * from tweets where vector is null limit 1 offset {}'''.format(count)\n",
    "    count += 1\n",
    "    #cur = conn.cursor()\n",
    "    cur.execute(sql_select)\n",
    "    row = cur.fetchall()[0]\n",
    "    t = c(row['tweet_content'])\n",
    "    v = nlp(row['tweet_content']) \n",
    "    v_arr = v.vector\n",
    "    v_bin = pg2.Binary(v_arr)\n",
    "    sql_update = '''\n",
    "    update tweets\n",
    "    set vector = {}\n",
    "    where tweet_content = '{}';\n",
    "    commit;'''.format(v_bin,t)\n",
    "    cur.execute(sql_update)\n",
    "    print(count)\n",
    "    #print(count,\" \",v_arr[0])\n",
    "conn.close()    \n",
    "print('done') "
   ]
  },
  {
   "cell_type": "code",
   "execution_count": null,
   "metadata": {
    "collapsed": true
   },
   "outputs": [],
   "source": [
    "import pandas as pd\n",
    "\n",
    "from tqdm import tqdm\n",
    "import psycopg2 as pg2\n",
    "import psycopg2.extras as pgex\n",
    "from psycopg2.extras import RealDictCursor\n",
    "this_host='34.211.59.66'\n",
    "this_user='postgres'\n",
    "this_password='postgres'\n",
    "\n",
    "conn = pg2.connect(host = this_host,user = this_user,password = this_password)\n",
    "sql_notime = '''update tweets set time = TO_TIMESTAMP(substring(created_at,11,9), 'HH24:MI:SS') where time is null;\n",
    "'''\n",
    "sql_nodate = '''update tweets set date = TO_date(concat(substring(created_at,27,4),'-',\\\n",
    "                                                           substring(created_at,5,3),'-',substring(created_at,9,2)), \\\n",
    "                                                    'YYYY-Mon-DD') where date is null;'''\n",
    "\n",
    "se = '''update tweets set date_time = to_timestamp(concat(substring(created_at,27,4),'-',substring(created_at,5,3),'-',\n",
    "substring(created_at,9,2),' ',substring(created_at,11,9)),'YYYY-Mon-DD HH24:MI:SS') at time zone 'UTC';'''\n",
    "\n",
    "\n",
    "cur = conn.cursor()\n",
    "cur.execute(se)\n",
    "conn.commit()\n",
    "conn.close() "
   ]
  },
  {
   "cell_type": "code",
   "execution_count": null,
   "metadata": {
    "collapsed": true
   },
   "outputs": [],
   "source": [
    "SELECT startdate::timestamp AS startdate,\n",
    "        (DATE_PART('hour',startdate::timestamp)::integer) as hrs,count(guorderid)\n",
    "        FROM ord_entitlement\n",
    "        WHERE DATE_PART('Day',now() - startdate::timestamptz) < 1\n",
    "        GROUP BY  hrs,startdate\n",
    "        ORDER BY startdate\n",
    "        \n",
    "        SELECT Combined = MyDate + MyTime FROM MyTable\n",
    "        SELECT ((timestamp '2015-10-24 16:38:46') AT TIME ZONE 'UTC');\n",
    "        \n",
    " '''update tweets set time = TO_TIMESTAMP(substring(created_at,11,9), 'HH24:MI:SS') where time is null;\n",
    "'''       \n",
    "\n",
    "update tweets set time = TO_TIMESTAMP((substring(created_at,27,4),'-',substring(created_at,5,3),'-',\n",
    "substring(created_at,9,2),' ',substring(created_at,11,9),'YYYY-Mon-DD HH24:MI:SS') from tweets limit 1;\n",
    "\n",
    " to_timestamp(text, text)\ttimestamp with time zone\tconvert string \n",
    "to time stamp\tto_timestamp('05 Dec 2000', 'DD Mon YYYY')       \n",
    "\n",
    "INSERT INTO tweets (date_time) values (TO_TIMESTAMP((substring(created_at,27,4),'-',substring(created_at,5,3),'-',\n",
    "substring(created_at,9,2),' ',substring(created_at,11,9)),'YYYY-Mon-DD HH24:MI:SS')) select created_at from tweets;\n",
    "\n",
    "INSERT INTO tweets(date_time) select to_timestamp(concat(substring(created_at,27,4),'-',substring(created_at,5,3),'-',\n",
    "substring(created_at,9,2),' ',substring(created_at,11,9)),'YYYY-Mon-DD HH24:MI:SS') at time zone 'UTC' from tweets;\n",
    "\n",
    "INSERT INTO tweets(date_time) select concat(substring(created_at,27,4),'-',substring(created_at,5,3),'-',\n",
    "substring(created_at,9,2),' ',substring(created_at,11,9)) from tweets;                                      \n",
    "                                      \n",
    "                                      select to_timestamp('30/12/2011 00:30:00', 'DD/MM/YYYY HH24:MI:SS \n",
    "') at time zone 'UTC';\n",
    "                                                          \n",
    "\n",
    "INSERT INTO employees_log SELECT *, current_timestamp FROM upd;\n",
    "\n",
    "INSERT INTO some_table \n",
    " (ts_column) \n",
    " VALUES \n",
    " (to_timestamp('16-05-2011 15:36:38', 'dd-mm-yyyy hh24:mi:ss'));\n",
    "                                                          \n",
    "                                                          \n",
    "                                                          update \n",
    "Vendor \n",
    "set ulARAgeing = 'Current' \n",
    "where AccountTerms = 0;"
   ]
  },
  {
   "cell_type": "code",
   "execution_count": null,
   "metadata": {
    "collapsed": true
   },
   "outputs": [],
   "source": [
    "update tweets set date_time = to_timestamp(concat(substring(created_at,27,4),'-',substring(created_at,5,3),'-',\n",
    "substring(created_at,9,2),' ',substring(created_at,11,9)),'YYYY-Mon-DD HH24:MI:SS') at time zone 'UTC';"
   ]
  }
 ],
 "metadata": {
  "kernelspec": {
   "display_name": "Python 3",
   "language": "python",
   "name": "python3"
  },
  "language_info": {
   "codemirror_mode": {
    "name": "ipython",
    "version": 3
   },
   "file_extension": ".py",
   "mimetype": "text/x-python",
   "name": "python",
   "nbconvert_exporter": "python",
   "pygments_lexer": "ipython3",
   "version": "3.5.2"
  }
 },
 "nbformat": 4,
 "nbformat_minor": 2
}
