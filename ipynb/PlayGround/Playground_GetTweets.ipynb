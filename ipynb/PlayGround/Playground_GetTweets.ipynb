{
 "cells": [
  {
   "cell_type": "code",
   "execution_count": null,
   "metadata": {
    "collapsed": true
   },
   "outputs": [],
   "source": [
    "import requests\n",
    "import numpy as np\n",
    "import pandas as pd\n",
    "import json\n",
    "from IPython.display import display"
   ]
  },
  {
   "cell_type": "code",
   "execution_count": null,
   "metadata": {},
   "outputs": [],
   "source": [
    "!pip install tweepy twitter pymongo"
   ]
  },
  {
   "cell_type": "code",
   "execution_count": null,
   "metadata": {
    "collapsed": true
   },
   "outputs": [],
   "source": [
    "import pymongo\n",
    "cli = pymongo.MongoClient(host='54.191.217.176')"
   ]
  },
  {
   "cell_type": "code",
   "execution_count": null,
   "metadata": {},
   "outputs": [],
   "source": [
    "cli.database_names()"
   ]
  },
  {
   "cell_type": "code",
   "execution_count": null,
   "metadata": {
    "collapsed": true
   },
   "outputs": [],
   "source": [
    "twitter_db = cli.twitter_db\n",
    "tweets_collection = cli.twitter_db.tweets_collection"
   ]
  },
  {
   "cell_type": "code",
   "execution_count": null,
   "metadata": {
    "collapsed": true
   },
   "outputs": [],
   "source": [
    "# Go to http://apps.twitter.com and create an app.\n",
    "CONSUMER_KEY=\"8LEB3bJN43EReATwtroO6tPQG\"\n",
    "CONSUMER_SECRET=\"f43lHy2MM0SrHNUUWJHtf47ghPNqTh09s3YvFv8EEUllOausTl\"\n",
    "\n",
    "# After the step above, you will be redirected to your app's page.\n",
    "ACCESS_TOKEN=\"862710988822372352-8PimcqcwBJE2PKz0INegcxymhEMwkrc\"\n",
    "ACCESS_SECRET=\"Y2gq5Yfcj54ycPXg3VLskNPpqo7nFa8XalKR06lPS3DEh\""
   ]
  },
  {
   "cell_type": "code",
   "execution_count": null,
   "metadata": {},
   "outputs": [],
   "source": [
    "from tweepy.streaming import StreamListener\n",
    "from tweepy import OAuthHandler\n",
    "from tweepy import Stream\n",
    "auth = OAuthHandler(CONSUMER_KEY, CONSUMER_SECRET)\n",
    "auth.set_access_token(ACCESS_TOKEN, ACCESS_SECRET)\n",
    "api = tweepy.API(auth)"
   ]
  },
  {
   "cell_type": "code",
   "execution_count": null,
   "metadata": {},
   "outputs": [],
   "source": [
    "# Go to http://apps.twitter.com and create an app.\n",
    "consumer_key=\"8LEB3bJN43EReATwtroO6tPQG\"\n",
    "consumer_secret=\"f43lHy2MM0SrHNUUWJHtf47ghPNqTh09s3YvFv8EEUllOausTl\"\n",
    "\n",
    "# After the step above, you will be redirected to your app's page.\n",
    "access_token=\"862710988822372352-8PimcqcwBJE2PKz0INegcxymhEMwkrc\"\n",
    "access_token_secret=\"Y2gq5Yfcj54ycPXg3VLskNPpqo7nFa8XalKR06lPS3DEh\"\n",
    "\n",
    "class StreamWatcherListener(StreamListener):\n",
    "    \"\"\" A listener handles tweets that are received from the stream.\n",
    "    This is a basic listener that just prints received tweets to stdout.\n",
    "    \"\"\"\n",
    "\n",
    "    if __name__ == '__main__':\n",
    "        try:\n",
    "            main(string)\n",
    "        except KeyboardInterrupt:\n",
    "            print ('\\nGoodbye!') \n",
    "            \n",
    "    def main(string, tweet_count = 10):\n",
    "        l = StdOutListener()\n",
    "        auth = OAuthHandler(consumer_key, consumer_secret)\n",
    "        auth.set_access_token(access_token, access_token_secret)\n",
    "        stream = Stream(auth, l)\n",
    "        count = tweet_count\n",
    "        iterator = stream.filter(track=[string],locations=[-118.512139,34.003151,-118.433948,34.048961])\n",
    "        for tweet in iterator:\n",
    "            count -= 1\n",
    "            tweets.append(tweet)\n",
    "            if count <= 0:\n",
    "                break  \n",
    "    \n",
    "    def on_data(self, data):\n",
    "        print(data)\n",
    "        \n",
    "        return True\n",
    "\n",
    "    def on_error(self, status):\n",
    "        print(status)\n"
   ]
  },
  {
   "cell_type": "code",
   "execution_count": null,
   "metadata": {
    "collapsed": true
   },
   "outputs": [],
   "source": [
    "def main(string, tweet_count = 10):\n",
    "    l = StdOutListener()\n",
    "    auth = OAuthHandler(consumer_key, consumer_secret)\n",
    "    auth.set_access_token(access_token, access_token_secret)\n",
    "    stream = Stream(auth, l)\n",
    "    count = tweet_count\n",
    "    iterator = stream.filter(track=[string],locations=[-118.512139,34.003151,-118.433948,34.048961])\n",
    "    for tweet in iterator:\n",
    "        count -= 1\n",
    "        tweets.append(tweet)\n",
    "        if count <= 0:\n",
    "            break  "
   ]
  },
  {
   "cell_type": "code",
   "execution_count": null,
   "metadata": {
    "collapsed": true
   },
   "outputs": [],
   "source": [
    "los_angeles_bb = \"-118.6681759,33.5883113449,-117.5042724609,34.3373061\""
   ]
  },
  {
   "cell_type": "code",
   "execution_count": null,
   "metadata": {},
   "outputs": [],
   "source": [
    "import json\n",
    "from twitter import Twitter, OAuth, TwitterHTTPError, TwitterStream\n",
    "\n",
    "\n",
    "# Go to http://apps.twitter.com and create an app.\n",
    "consumer_key=\"8LEB3bJN43EReATwtroO6tPQG\"\n",
    "consumer_secret=\"f43lHy2MM0SrHNUUWJHtf47ghPNqTh09s3YvFv8EEUllOausTl\"\n",
    "\n",
    "# After the step above, you will be redirected to your app's page.\n",
    "access_token=\"862710988822372352-8PimcqcwBJE2PKz0INegcxymhEMwkrc\"\n",
    "access_token_secret=\"Y2gq5Yfcj54ycPXg3VLskNPpqo7nFa8XalKR06lPS3DEh\"\n",
    "\n",
    "oauth = OAuth(access_token,access_token_secret, consumer_key, consumer_secret)\n",
    "twitter_stream = TwitterStream(auth=oauth)\n",
    "iterator = twitter_stream.statuses.filter(locations=los_angeles_bb)\n",
    "tweet_count = 50\n",
    "\n",
    "tweets = []\n",
    "for tweet in iterator:\n",
    "    tweet_count -= 1\n",
    "    # Twitter Python Tool wraps the data returned by Twitter \n",
    "    # as a TwitterDictResponse object.\n",
    "    # We convert it back to the JSON format to print/score\n",
    "    tweets.append(tweet)\n",
    "    \n",
    "    # The command below will do pretty printing for JSON data, try it out\n",
    "    # print json.dumps(tweet, indent=4)\n",
    "       \n",
    "    if tweet_count <= 0:\n",
    "        break"
   ]
  },
  {
   "cell_type": "code",
   "execution_count": null,
   "metadata": {},
   "outputs": [],
   "source": [
    "import tweepy\n",
    "\n",
    "auth = tweepy.OAuthHandler(consumer_key, consumer_secret)\n",
    "auth.set_access_token(access_token, access_token_secret)\n",
    "\n",
    "api = tweepy.API(auth)\n",
    "\n",
    "public_tweets = api.home_timeline()\n",
    "for tweet in public_tweets:\n",
    "    print (tweet.text)"
   ]
  },
  {
   "cell_type": "code",
   "execution_count": null,
   "metadata": {
    "collapsed": true
   },
   "outputs": [],
   "source": [
    "   def on_error(self, status_code):\n",
    "        print 'An error has occured! Status code = %s' % status_code\n",
    "        return True  # keep stream alive\n",
    "\n",
    "    def on_timeout(self):\n",
    "        print 'Snoozing Zzzzzz'"
   ]
  },
  {
   "cell_type": "code",
   "execution_count": null,
   "metadata": {
    "collapsed": true
   },
   "outputs": [],
   "source": [
    "    status_wrapper = TextWrapper(width=60, initial_indent='    ', subsequent_indent='    ')\n",
    "    \n",
    "    def on_status(self, status):\n",
    "        try:\n",
    "            print self.status_wrapper.fill(status.text)\n",
    "            print '\\n %s  %s  via %s\\n' % (status.author.screen_name, status.created_at, status.source)\n",
    "        except:\n",
    "            # Catch any unicode errors while printing to console\n",
    "            # and just ignore them to avoid breaking application.\n",
    "            pass"
   ]
  },
  {
   "cell_type": "code",
   "execution_count": null,
   "metadata": {
    "collapsed": true
   },
   "outputs": [],
   "source": [
    "    def on_status(self, status):\n",
    "\n",
    "    if status.author.lang == 'fr':\n",
    "\n",
    "        message = {'author_name': status.author.screen_name,\n",
    "\n",
    "                   'author_id': status.author.id,\n",
    "\n",
    "                   'id': status.id,\n",
    "\n",
    "                   'text': status.text,\n",
    "\n",
    "                   'retweeted': status.retweeted,\n",
    "\n",
    "                   'coordinates': status.coordinates,\n",
    "\n",
    "                   'time': int(time.time())}\n",
    "\n",
    "        self.callback(json.dumps(message), 'posts')"
   ]
  },
  {
   "cell_type": "code",
   "execution_count": null,
   "metadata": {},
   "outputs": [],
   "source": [
    "from __future__ import absolute_import, print_function\n",
    "\n",
    "from tweepy.streaming import StreamListener\n",
    "from tweepy import OAuthHandler\n",
    "from tweepy import Stream\n",
    "\n",
    "# Go to http://apps.twitter.com and create an app.\n",
    "consumer_key=\"8LEB3bJN43EReATwtroO6tPQG\"\n",
    "consumer_secret=\"f43lHy2MM0SrHNUUWJHtf47ghPNqTh09s3YvFv8EEUllOausTl\"\n",
    "\n",
    "# After the step above, you will be redirected to your app's page.\n",
    "access_token=\"862710988822372352-8PimcqcwBJE2PKz0INegcxymhEMwkrc\"\n",
    "access_token_secret=\"Y2gq5Yfcj54ycPXg3VLskNPpqo7nFa8XalKR06lPS3DEh\"\n",
    "\n",
    "class StdOutListener(StreamListener):\n",
    "    \"\"\" A listener handles tweets that are received from the stream.\n",
    "    This is a basic listener that just prints received tweets to stdout.\n",
    "    \"\"\"\n",
    "    def on_data(self, data):\n",
    "        print(data)\n",
    "        return True\n",
    "\n",
    "    def on_error(self, status):\n",
    "        print(status)\n",
    "\n",
    "if __name__ == '__main__':\n",
    "    l = StdOutListener()\n",
    "    auth = OAuthHandler(consumer_key, consumer_secret)\n",
    "    auth.set_access_token(access_token, access_token_secret)\n",
    "\n",
    "    stream = Stream(auth, l)\n",
    "    stream.filter(track=['trump'])"
   ]
  },
  {
   "cell_type": "code",
   "execution_count": null,
   "metadata": {
    "collapsed": true
   },
   "outputs": [],
   "source": [
    "from tweepy.streaming import StreamListener\n",
    "from tweepy import OAuthHandler, Stream, API\n",
    "from tweepy import Stream\n",
    "auth = OAuthHandler(CONSUMER_KEY, CONSUMER_SECRET)\n",
    "auth.set_access_token(ACCESS_TOKEN, ACCESS_SECRET)\n",
    "api = API(auth)"
   ]
  },
  {
   "cell_type": "code",
   "execution_count": null,
   "metadata": {
    "collapsed": true
   },
   "outputs": [],
   "source": [
    "import tweepy\n",
    "#override tweepy.StreamListener to add logic to on_status\n",
    "class StreamListener(StreamListener):\n",
    "\n",
    "    def on_status(self, data):\n",
    "        print(data)\n",
    "    \n",
    "    def on_error(self, status_code):\n",
    "        if status_code == 420:\n",
    "            #returning False in on_data disconnects the stream\n",
    "            return False\n",
    "if __name__ == '__main__':        \n",
    "    l = StreamListener()\n",
    "    auth = OAuthHandler(consumer_key, consumer_secret)\n",
    "    auth.set_access_token(access_token, access_token_secret)\n",
    "    stream = Stream(auth, l)\n",
    "    stream.filter(track=['trump'], async=True)\n",
    "    #tweet_count = 5\"\n",
    "#tweets = []\n",
    "\n",
    "#count = tweet_count\n",
    "\n",
    "\n",
    "#for tweet in iterator:\n",
    "    \n",
    "    #count -= 1\n",
    "    #print(tweet)\n",
    "    #tweets.append(tweet)\n",
    "    #if count <= 0:\n",
    "    #    break \n",
    "    "
   ]
  },
  {
   "cell_type": "code",
   "execution_count": null,
   "metadata": {
    "collapsed": true
   },
   "outputs": [],
   "source": [
    "def on_data(self, data):\n",
    "        print(data)\n",
    "        \n",
    "        return True\n",
    "\n",
    "    def on_error(self, status):\n",
    "        print(status)"
   ]
  },
  {
   "cell_type": "code",
   "execution_count": null,
   "metadata": {},
   "outputs": [],
   "source": [
    "import tweepy\n",
    "\n",
    "auth = tweepy.OAuthHandler(consumer_key, consumer_secret)\n",
    "auth.set_access_token(access_token, access_token_secret)\n",
    "\n",
    "api = tweepy.API(auth)\n",
    "\n",
    "public_tweets = api.home_timeline()\n",
    "for tweet in public_tweets:\n",
    "    print (tweet.text)"
   ]
  }
 ],
 "metadata": {
  "kernelspec": {
   "display_name": "Python 3",
   "language": "python",
   "name": "python3"
  },
  "language_info": {
   "codemirror_mode": {
    "name": "ipython",
    "version": 3
   },
   "file_extension": ".py",
   "mimetype": "text/x-python",
   "name": "python",
   "nbconvert_exporter": "python",
   "pygments_lexer": "ipython3",
   "version": "3.5.2"
  }
 },
 "nbformat": 4,
 "nbformat_minor": 2
}
