{
 "cells": [
  {
   "cell_type": "code",
   "execution_count": 1,
   "metadata": {
    "collapsed": true
   },
   "outputs": [],
   "source": [
    "import pandas as pd\n",
    "import numpy as np\n",
    "from spacy.en import English\n",
    "nlp = English()\n",
    "import random\n",
    "from sklearn.metrics.pairwise import cosine_similarity\n",
    "import math\n",
    "import matplotlib.pyplot as plt\n",
    "%matplotlib inline\n",
    "\n",
    "import psycopg2 as pg2\n",
    "import psycopg2.extras as pgex\n",
    "this_host='34.211.59.66'\n",
    "this_user='postgres'\n",
    "this_password='postgres'\n",
    "conn = pg2.connect(host = this_host, \n",
    "                        user = this_user,\n",
    "                        password = this_password)\n",
    "\n",
    "sql_select = '''select created_at, tweet_content, cleaned_tweet from tweets;'''\n",
    "\n",
    "cur = conn.cursor(cursor_factory=pgex.RealDictCursor)\n",
    "cur.execute(sql_select)\n",
    "rows = cur.fetchall()\n",
    "conn.close()\n",
    "df = pd.DataFrame(rows)"
   ]
  },
  {
   "cell_type": "code",
   "execution_count": 2,
   "metadata": {
    "collapsed": true
   },
   "outputs": [],
   "source": [
    "def event_tweet_count(event):\n",
    "    event = event.lower()\n",
    "    event_tweet = df[df['cleaned_tweet'].str.contains((event))]\n",
    "    return len(event_tweet)"
   ]
  },
  {
   "cell_type": "code",
   "execution_count": 13,
   "metadata": {
    "collapsed": true
   },
   "outputs": [],
   "source": [
    "def tweets_event_ab_test(event):\n",
    "    event = event.lower()\n",
    "    event_tweet = df[df['cleaned_tweet'].str.contains((event))]\n",
    "    event_tweet.reset_index(inplace = True)\n",
    "    \n",
    "    A_index = list(range(event_tweet.shape[0]))\n",
    "    random.shuffle(A_index)\n",
    "    \n",
    "    n = int(round((event_tweet_count(event))*0.2,0))\n",
    "    A1_index = []\n",
    "    for i in range(n):\n",
    "        A1_index.append(A_index.pop())\n",
    "    \n",
    "    A1 = event_tweet.iloc[A1_index,:]\n",
    "    A1.reset_index(inplace = True)\n",
    "    A1_vec = np.array([nlp(i).vector for i in A1['cleaned_tweet']])\n",
    "    \n",
    "    A2 = event_tweet.iloc[A_index,:] \n",
    "    A2.reset_index(inplace = True)\n",
    "    A2_vec = np.array([nlp(i).vector for i in A2['cleaned_tweet']])\n",
    "    non_event_tweet = df[~df['cleaned_tweet'].str.contains(('event'))]\n",
    "    non_event_tweet.reset_index(inplace = True)\n",
    "    \n",
    "    B_index = list(range(non_event_tweet.shape[0]))\n",
    "    random.shuffle(B_index)\n",
    "    B1_index = []\n",
    "    for i in range(n):\n",
    "        B1_index.append(B_index.pop())\n",
    "    m = A2.shape[0]\n",
    "    B2_index = []\n",
    "    for i in range(m):\n",
    "        B2_index.append(B_index.pop())  \n",
    "    \n",
    "    \n",
    "    B1 = non_event_tweet.iloc[B1_index,:]\n",
    "    B1.reset_index(inplace = True)\n",
    "    B1_vec = np.array([nlp(i).vector for i in B1['cleaned_tweet']])\n",
    "    \n",
    "    B2 = non_event_tweet.iloc[B2_index,:]\n",
    "    B2.reset_index(inplace = True)\n",
    "    B2_vec = np.array([nlp(i).vector for i in B2['cleaned_tweet']])\n",
    "    \n",
    "    A1_vec_mean = np.average(A1_vec, axis=0)\n",
    "    A2_vec_mean = np.average(A2_vec, axis=0)\n",
    "    B1_vec_mean = np.average(B1_vec, axis=0)\n",
    "    B2_vec_mean = np.average(B2_vec, axis=0)\n",
    "    \n",
    "    a1a2 = cosine_similarity(A1_vec_mean.reshape(1,-1),A2_vec_mean.reshape(1,-1))[0][0]\n",
    "    b1b2 = cosine_similarity(B2_vec_mean.reshape(1,-1),B1_vec_mean.reshape(1,-1))[0][0]\n",
    "    a1b1 = cosine_similarity(A1_vec_mean.reshape(1,-1),B1_vec_mean.reshape(1,-1))[0][0]\n",
    "    a2b2 = cosine_similarity(A2_vec_mean.reshape(1,-1),B2_vec_mean.reshape(1,-1))[0][0]\n",
    "   \n",
    "    a2_consim_list = []\n",
    "    for i in range(min(n,m)):  \n",
    "        a2_consim_list.append(cosine_similarity(A2_vec[i].reshape(1,-1),A1_vec_mean.reshape(1,-1))[0][0])\n",
    "    a2_mean = np.mean(np.array(a2_consim_list))\n",
    "    a2_std = np.std(np.array(a2_consim_list))\n",
    "    \n",
    "    b2_consim_list = []\n",
    "    for i in range(min(n,m)):  \n",
    "        b2_consim_list.append(cosine_similarity(B2_vec[i].reshape(1,-1),B1_vec_mean.reshape(1,-1))[0][0])\n",
    "    b2_mean = np.mean(b2_consim_list)\n",
    "    b2_std = np.std(b2_consim_list)\n",
    "    \n",
    "    a1b2_consim_list = []\n",
    "    for i in range(min(n,m)):  \n",
    "        a1b2_consim_list.append((cosine_similarity(B2_vec[i].reshape(1,-1),A1_vec_mean.reshape(1,-1))[0][0]))\n",
    "    a1b2_mean = np.mean(a1b2_consim_list)\n",
    "    a1b2_std = np.std(a1b2_consim_list)\n",
    "    \n",
    "    print('A1|A2: ',a1a2,'\\n'\n",
    "                'B1|B2: ',b1b2, '\\n\\n'\n",
    "                'A1|B1: ',a1b1, '\\n'\n",
    "                'A2|B2: ', a2b2, '\\n\\n'\n",
    "                'Cosine Similarity Mean of A2 to A1', a2_mean, '\\n'\n",
    "                'Cosine Similarity Mean of B2 to B1', b2_mean, '\\n'\n",
    "                'Cosine Similarity Mean of B2 to A1', a1b2_mean, '\\n\\n'\n",
    "                'Cosine Similarity STD of A2 to A1', a2_std, '\\n'\n",
    "                'Cosine Similarity STD of B2 to B1', b2_std, '\\n'\n",
    "                'Cosine Similarity STD of B2 to A1', a1b2_std, '\\n'                 \n",
    "                )\n",
    "    \n",
    "    return a2_consim_list, b2_consim_list"
   ]
  },
  {
   "cell_type": "code",
   "execution_count": 35,
   "metadata": {
    "collapsed": true
   },
   "outputs": [],
   "source": [
    "def Top_scored_tweets_in_B(event, n = 10000):\n",
    "    event = event.lower()\n",
    "    A = df[df['cleaned_tweet'].str.contains((event))]\n",
    "    A.reset_index(inplace = True, drop = True)\n",
    "    A_vec = np.array([nlp(i).vector for i in A['cleaned_tweet']])\n",
    "    A_vec_mean = np.average(A_vec, axis=0)\n",
    "    \n",
    "    \n",
    "    B = df[~df['cleaned_tweet'].str.contains((event))]\n",
    "    B.reset_index(inplace = True, drop = True)\n",
    "    \n",
    "    B_index = list(range(B.shape[0]))\n",
    "    random.shuffle(B_index)\n",
    "    n = n\n",
    "    B1_index = []\n",
    "    for i in range(n):\n",
    "        B1_index.append(B_index.pop())\n",
    "        \n",
    "    B1 = B.iloc[B1_index,:]\n",
    "    B1.reset_index(inplace = True, drop = True)\n",
    "    B1_vec = np.array([nlp(i).vector for i in B1['cleaned_tweet']])\n",
    "    \n",
    "    \n",
    "    consim_twt_list = []\n",
    "    for i in range(n):  \n",
    "        consim_twt_list.append((cosine_similarity(B1_vec[i].reshape(1,-1),A_vec_mean.reshape(1,-1))[0][0], B1['cleaned_tweet'][i]))\n",
    "    pd.options.display.max_colwidth = 200\n",
    "    result = pd.DataFrame(consim_twt_list, columns = ['score','tweet'])\n",
    "    print(result.shape)\n",
    "    cluster = result[result['score']>.95]\n",
    "    cluster.sort_values('score', ascending = False,inplace = True)\n",
    "    return cluster.head(20)"
   ]
  },
  {
   "cell_type": "code",
   "execution_count": 15,
   "metadata": {
    "scrolled": false
   },
   "outputs": [
    {
     "name": "stdout",
     "output_type": "stream",
     "text": [
      "Event Tweets (paris|climate):  2546\n",
      "A1|A2:  0.999808 \n",
      "B1|B2:  0.99947 \n",
      "\n",
      "A1|B1:  0.972629 \n",
      "A2|B2:  0.974946 \n",
      "\n",
      "Cosine Similarity Mean of A2 to A1 0.896846 \n",
      "Cosine Similarity Mean of B2 to B1 0.838332 \n",
      "Cosine Similarity Mean of B2 to A1 0.819692 \n",
      "\n",
      "Cosine Similarity STD of A2 to A1 0.089079 \n",
      "Cosine Similarity STD of B2 to B1 0.144231 \n",
      "Cosine Similarity STD of B2 to A1 0.147827 \n",
      "\n"
     ]
    },
    {
     "data": {
      "text/plain": [
       "(-0.1, 1)"
      ]
     },
     "execution_count": 15,
     "metadata": {},
     "output_type": "execute_result"
    },
    {
     "data": {
      "image/png": "[encoded data removed]",
      "text/plain": [
       "<matplotlib.figure.Figure at 0x7f29b51fb940>"
      ]
     },
     "metadata": {},
     "output_type": "display_data"
    }
   ],
   "source": [
    "print('Event Tweets (paris|climate): ', event_tweet_count('paris|climate'))\n",
    "A, B = tweets_event_ab_test('paris|climate')\n",
    "plt.scatter(range(len(A)), A, c = 'g')\n",
    "plt.scatter(range(len(B)), B, c = 'r')\n",
    "plt.ylim(-.1,1)"
   ]
  },
  {
   "cell_type": "code",
   "execution_count": 16,
   "metadata": {},
   "outputs": [
    {
     "name": "stdout",
     "output_type": "stream",
     "text": [
      "Event Tweets (nbafinals):  1120\n",
      "A1|A2:  0.999628 \n",
      "B1|B2:  0.998951 \n",
      "\n",
      "A1|B1:  0.940789 \n",
      "A2|B2:  0.944012 \n",
      "\n",
      "Cosine Similarity Mean of A2 to A1 0.878789 \n",
      "Cosine Similarity Mean of B2 to B1 0.822529 \n",
      "Cosine Similarity Mean of B2 to A1 0.783197 \n",
      "\n",
      "Cosine Similarity STD of A2 to A1 0.0772356 \n",
      "Cosine Similarity STD of B2 to B1 0.184495 \n",
      "Cosine Similarity STD of B2 to A1 0.16715 \n",
      "\n"
     ]
    },
    {
     "data": {
      "text/plain": [
       "(-0.1, 1.2)"
      ]
     },
     "execution_count": 16,
     "metadata": {},
     "output_type": "execute_result"
    },
    {
     "data": {
      "image/png": "[encoded data removed]",
      "text/plain": [
       "<matplotlib.figure.Figure at 0x7f29b632aac8>"
      ]
     },
     "metadata": {},
     "output_type": "display_data"
    }
   ],
   "source": [
    "print('Event Tweets (nbafinals): ', event_tweet_count('nbafinals'))\n",
    "A, B = tweets_event_ab_test('nbafinals')\n",
    "plt.scatter(range(len(A)), A, c = 'g')\n",
    "plt.scatter(range(len(B)), B, c = 'r')\n",
    "plt.ylim(-.1,1.2)"
   ]
  },
  {
   "cell_type": "code",
   "execution_count": 17,
   "metadata": {
    "scrolled": false
   },
   "outputs": [
    {
     "name": "stdout",
     "output_type": "stream",
     "text": [
      "Event Tweets (travel ban|travelban):  199\n",
      "A1|A2:  0.996951 \n",
      "B1|B2:  0.992747 \n",
      "\n",
      "A1|B1:  0.962097 \n",
      "A2|B2:  0.96414 \n",
      "\n",
      "Cosine Similarity Mean of A2 to A1 0.874697 \n",
      "Cosine Similarity Mean of B2 to B1 0.801843 \n",
      "Cosine Similarity Mean of B2 to A1 0.779817 \n",
      "\n",
      "Cosine Similarity STD of A2 to A1 0.123912 \n",
      "Cosine Similarity STD of B2 to B1 0.19948 \n",
      "Cosine Similarity STD of B2 to A1 0.19824 \n",
      "\n"
     ]
    },
    {
     "data": {
      "text/plain": [
       "(-0.1, 1.2)"
      ]
     },
     "execution_count": 17,
     "metadata": {},
     "output_type": "execute_result"
    },
    {
     "data": {
      "image/png": "[encoded data removed]",
      "text/plain": [
       "<matplotlib.figure.Figure at 0x7f29b30a2eb8>"
      ]
     },
     "metadata": {},
     "output_type": "display_data"
    }
   ],
   "source": [
    "print('Event Tweets (travel ban|travelban): ', event_tweet_count('travel ban|travelban'))\n",
    "A, B = tweets_event_ab_test('travel ban|travelban')\n",
    "plt.scatter(range(len(A)), A, c = 'g')\n",
    "plt.scatter(range(len(B)), B, c = 'r')\n",
    "plt.ylim(-.1,1.2)"
   ]
  },
  {
   "cell_type": "code",
   "execution_count": 18,
   "metadata": {},
   "outputs": [
    {
     "name": "stdout",
     "output_type": "stream",
     "text": [
      "Event Tweets (nationaldonutday):  527\n",
      "A1|A2:  0.998209 \n",
      "B1|B2:  0.99759 \n",
      "\n",
      "A1|B1:  0.921144 \n",
      "A2|B2:  0.916516 \n",
      "\n",
      "Cosine Similarity Mean of A2 to A1 0.869883 \n",
      "Cosine Similarity Mean of B2 to B1 0.836381 \n",
      "Cosine Similarity Mean of B2 to A1 0.789729 \n",
      "\n",
      "Cosine Similarity STD of A2 to A1 0.0643043 \n",
      "Cosine Similarity STD of B2 to B1 0.124851 \n",
      "Cosine Similarity STD of B2 to A1 0.105092 \n",
      "\n"
     ]
    },
    {
     "data": {
      "text/plain": [
       "(-0.1, 1.2)"
      ]
     },
     "execution_count": 18,
     "metadata": {},
     "output_type": "execute_result"
    },
    {
     "data": {
      "image/png": "[encoded data removed]",
      "text/plain": [
       "<matplotlib.figure.Figure at 0x7f29b3018d68>"
      ]
     },
     "metadata": {},
     "output_type": "display_data"
    }
   ],
   "source": [
    "print('Event Tweets (nationaldonutday): ', event_tweet_count('nationaldonutday'))\n",
    "A, B = tweets_event_ab_test('nationaldonutday')\n",
    "plt.scatter(range(len(A)), A, c = 'g')\n",
    "plt.scatter(range(len(B)), B, c = 'r')\n",
    "plt.ylim(-.1,1.2)"
   ]
  },
  {
   "cell_type": "code",
   "execution_count": 36,
   "metadata": {
    "scrolled": false
   },
   "outputs": [
    {
     "name": "stdout",
     "output_type": "stream",
     "text": [
      "(15000, 2)\n"
     ]
    },
    {
     "name": "stderr",
     "output_type": "stream",
     "text": [
      "/opt/conda/lib/python3.5/site-packages/ipykernel_launcher.py:31: SettingWithCopyWarning: \n",
      "A value is trying to be set on a copy of a slice from a DataFrame\n",
      "\n",
      "See the caveats in the documentation: http://pandas.pydata.org/pandas-docs/stable/indexing.html#indexing-view-versus-copy\n"
     ]
    },
    {
     "data": {
      "text/html": [
       "<div>\n",
       "<table border=\"1\" class=\"dataframe\">\n",
       "  <thead>\n",
       "    <tr style=\"text-align: right;\">\n",
       "      <th></th>\n",
       "      <th>score</th>\n",
       "      <th>tweet</th>\n",
       "    </tr>\n",
       "  </thead>\n",
       "  <tbody>\n",
       "    <tr>\n",
       "      <th>2115</th>\n",
       "      <td>0.972668</td>\n",
       "      <td>i'm proud to be a ca resident, ca leads the us and some of the world in pollution standards. we won't give up!</td>\n",
       "    </tr>\n",
       "    <tr>\n",
       "      <th>5282</th>\n",
       "      <td>0.972082</td>\n",
       "      <td>duh, what all of the news people have failed to recognize - a coup by trump and russia. if it doesn't…</td>\n",
       "    </tr>\n",
       "    <tr>\n",
       "      <th>8454</th>\n",
       "      <td>0.971221</td>\n",
       "      <td>roberts seems to have lost all faith in romo. if this wasn't the spot for him, i don't know what is. only dodger not to pitch in the series.</td>\n",
       "    </tr>\n",
       "    <tr>\n",
       "      <th>11626</th>\n",
       "      <td>0.967501</td>\n",
       "      <td>i'm sure a lot of people don't ask for fame. they seek it as regret it after a period of time. rappers especially, it's in their lyrics.</td>\n",
       "    </tr>\n",
       "    <tr>\n",
       "      <th>3856</th>\n",
       "      <td>0.966892</td>\n",
       "      <td>this is making me feel less irate. end of the day however trump has 2 go. he's a menace and threatening not on the…</td>\n",
       "    </tr>\n",
       "    <tr>\n",
       "      <th>10437</th>\n",
       "      <td>0.966647</td>\n",
       "      <td>i don't even mind working all day. in order to get ahead in life you have to pay your dues! it's all apart of the process. trust in it.</td>\n",
       "    </tr>\n",
       "    <tr>\n",
       "      <th>179</th>\n",
       "      <td>0.966576</td>\n",
       "      <td>actually, i'd take it outside the u.s. pretty sure he's in the top five for worst leaders of any country. ever. jfc.</td>\n",
       "    </tr>\n",
       "    <tr>\n",
       "      <th>9134</th>\n",
       "      <td>0.966342</td>\n",
       "      <td>being a man or a woman has nothing to do with #success or #power. both could reach the top of the world if they use their minds - s.ali</td>\n",
       "    </tr>\n",
       "    <tr>\n",
       "      <th>1223</th>\n",
       "      <td>0.966090</td>\n",
       "      <td>i do not get it. this show is so fucking important. money is not the issue, they have more of it than god.</td>\n",
       "    </tr>\n",
       "    <tr>\n",
       "      <th>11214</th>\n",
       "      <td>0.965310</td>\n",
       "      <td>many people left in this world, sad ! there is a saying: why is it always the good ones go first?</td>\n",
       "    </tr>\n",
       "    <tr>\n",
       "      <th>5228</th>\n",
       "      <td>0.965040</td>\n",
       "      <td>#mondaymotivation many of us lived through the bush years, even though we did not vote for him, without obstructing the gov't. why now?</td>\n",
       "    </tr>\n",
       "    <tr>\n",
       "      <th>13763</th>\n",
       "      <td>0.964966</td>\n",
       "      <td>it's up to individual states now, people have to lobby their reps. california is not going along with this!…</td>\n",
       "    </tr>\n",
       "    <tr>\n",
       "      <th>7306</th>\n",
       "      <td>0.964887</td>\n",
       "      <td>i just wish ppl would see whats in front of their eyes as real, believe it is real and work as hard as they can to fix it and make it better</td>\n",
       "    </tr>\n",
       "    <tr>\n",
       "      <th>3167</th>\n",
       "      <td>0.964403</td>\n",
       "      <td>a15: kinda reminds me of a man called 45. all that power and doesn't use it the right way. #mochagirlsread</td>\n",
       "    </tr>\n",
       "    <tr>\n",
       "      <th>39</th>\n",
       "      <td>0.964104</td>\n",
       "      <td>a lot of \"don't say anything until we know the truth\" re: london takes, which is prudent and cautious. but folks. uh. it's radical sunnis.</td>\n",
       "    </tr>\n",
       "    <tr>\n",
       "      <th>11081</th>\n",
       "      <td>0.963999</td>\n",
       "      <td>ok people!! #rihanna isn't the first celeb to heckle a professional athlete and won't be the last. not breaking new…</td>\n",
       "    </tr>\n",
       "    <tr>\n",
       "      <th>4989</th>\n",
       "      <td>0.963954</td>\n",
       "      <td>\"this life is what you make it. no matter what, you're going to mess up sometimes, it's a…</td>\n",
       "    </tr>\n",
       "    <tr>\n",
       "      <th>9440</th>\n",
       "      <td>0.963935</td>\n",
       "      <td>set the tone for the day. start it with the belief that it will be the best day ever, and it just might be.</td>\n",
       "    </tr>\n",
       "    <tr>\n",
       "      <th>9638</th>\n",
       "      <td>0.963921</td>\n",
       "      <td>with all that’s wrong with the world, i marvel that i get to go to this next week: blunt talk cannabis and design.</td>\n",
       "    </tr>\n",
       "    <tr>\n",
       "      <th>11152</th>\n",
       "      <td>0.963839</td>\n",
       "      <td>never give up on what you really want to do. the person with big dreams is more powerful than one with all the facts.</td>\n",
       "    </tr>\n",
       "  </tbody>\n",
       "</table>\n",
       "</div>"
      ],
      "text/plain": [
       "          score  \\\n",
       "2115   0.972668   \n",
       "5282   0.972082   \n",
       "8454   0.971221   \n",
       "11626  0.967501   \n",
       "3856   0.966892   \n",
       "10437  0.966647   \n",
       "179    0.966576   \n",
       "9134   0.966342   \n",
       "1223   0.966090   \n",
       "11214  0.965310   \n",
       "5228   0.965040   \n",
       "13763  0.964966   \n",
       "7306   0.964887   \n",
       "3167   0.964403   \n",
       "39     0.964104   \n",
       "11081  0.963999   \n",
       "4989   0.963954   \n",
       "9440   0.963935   \n",
       "9638   0.963921   \n",
       "11152  0.963839   \n",
       "\n",
       "                                                                                                                                              tweet  \n",
       "2115                                 i'm proud to be a ca resident, ca leads the us and some of the world in pollution standards. we won't give up!  \n",
       "5282                                        duh, what all of the news people have failed to recognize - a coup by trump and russia. if it doesn't…   \n",
       "8454   roberts seems to have lost all faith in romo. if this wasn't the spot for him, i don't know what is. only dodger not to pitch in the series.  \n",
       "11626      i'm sure a lot of people don't ask for fame. they seek it as regret it after a period of time. rappers especially, it's in their lyrics.  \n",
       "3856                           this is making me feel less irate. end of the day however trump has 2 go. he's a menace and threatening not on the…   \n",
       "10437       i don't even mind working all day. in order to get ahead in life you have to pay your dues! it's all apart of the process. trust in it.  \n",
       "179                           actually, i'd take it outside the u.s. pretty sure he's in the top five for worst leaders of any country. ever. jfc.   \n",
       "9134        being a man or a woman has nothing to do with #success or #power. both could reach the top of the world if they use their minds - s.ali  \n",
       "1223                                     i do not get it. this show is so fucking important. money is not the issue, they have more of it than god.  \n",
       "11214                                            many people left in this world, sad ! there is a saying: why is it always the good ones go first?   \n",
       "5228        #mondaymotivation many of us lived through the bush years, even though we did not vote for him, without obstructing the gov't. why now?  \n",
       "13763                                 it's up to individual states now, people have to lobby their reps. california is not going along with this!…   \n",
       "7306   i just wish ppl would see whats in front of their eyes as real, believe it is real and work as hard as they can to fix it and make it better  \n",
       "3167                                     a15: kinda reminds me of a man called 45. all that power and doesn't use it the right way. #mochagirlsread  \n",
       "39       a lot of \"don't say anything until we know the truth\" re: london takes, which is prudent and cautious. but folks. uh. it's radical sunnis.  \n",
       "11081                         ok people!! #rihanna isn't the first celeb to heckle a professional athlete and won't be the last. not breaking new…   \n",
       "4989                                                    \"this life is what you make it. no matter what, you're going to mess up sometimes, it's a…   \n",
       "9440                                    set the tone for the day. start it with the belief that it will be the best day ever, and it just might be.  \n",
       "9638                            with all that’s wrong with the world, i marvel that i get to go to this next week: blunt talk cannabis and design.   \n",
       "11152                         never give up on what you really want to do. the person with big dreams is more powerful than one with all the facts.  "
      ]
     },
     "execution_count": 36,
     "metadata": {},
     "output_type": "execute_result"
    }
   ],
   "source": [
    "Top_scored_tweets_in_B('paris|climate', n = 15000)"
   ]
  },
  {
   "cell_type": "code",
   "execution_count": 37,
   "metadata": {},
   "outputs": [
    {
     "name": "stdout",
     "output_type": "stream",
     "text": [
      "(15000, 2)\n"
     ]
    },
    {
     "name": "stderr",
     "output_type": "stream",
     "text": [
      "/opt/conda/lib/python3.5/site-packages/ipykernel_launcher.py:31: SettingWithCopyWarning: \n",
      "A value is trying to be set on a copy of a slice from a DataFrame\n",
      "\n",
      "See the caveats in the documentation: http://pandas.pydata.org/pandas-docs/stable/indexing.html#indexing-view-versus-copy\n"
     ]
    },
    {
     "data": {
      "text/html": [
       "<div>\n",
       "<table border=\"1\" class=\"dataframe\">\n",
       "  <thead>\n",
       "    <tr style=\"text-align: right;\">\n",
       "      <th></th>\n",
       "      <th>score</th>\n",
       "      <th>tweet</th>\n",
       "    </tr>\n",
       "  </thead>\n",
       "  <tbody>\n",
       "    <tr>\n",
       "      <th>6163</th>\n",
       "      <td>0.966316</td>\n",
       "      <td>looks like i will be giving &amp;amp; their first facials this weekend! #welcometola #broday #gloupchallange</td>\n",
       "    </tr>\n",
       "    <tr>\n",
       "      <th>12246</th>\n",
       "      <td>0.963995</td>\n",
       "      <td>who is this guy? jrsilvas1 # #✅ #dj #chargedup came along way! #comeback story of a life time!…</td>\n",
       "    </tr>\n",
       "    <tr>\n",
       "      <th>5639</th>\n",
       "      <td>0.962568</td>\n",
       "      <td>i love how no one pays attention to me, even the people i love most. #donetalking #frustrated #jaded #noonegivesafuck #nobodylistens</td>\n",
       "    </tr>\n",
       "    <tr>\n",
       "      <th>4560</th>\n",
       "      <td>0.962019</td>\n",
       "      <td>who has the bet cats in the world? i do! #homesweethome #catsofinstagram #love #tripodkitty…</td>\n",
       "    </tr>\n",
       "    <tr>\n",
       "      <th>13833</th>\n",
       "      <td>0.961860</td>\n",
       "      <td>found this crazy lily today, at least we think it's a lily 🤔. #westforksangabrielriver #stereoscopic #lsc</td>\n",
       "    </tr>\n",
       "    <tr>\n",
       "      <th>10598</th>\n",
       "      <td>0.961555</td>\n",
       "      <td>everyone shows up to the party, very few show up for preparation...- #onefelix 2017 #fruition #brickbybrick #listentofelix</td>\n",
       "    </tr>\n",
       "    <tr>\n",
       "      <th>14600</th>\n",
       "      <td>0.961530</td>\n",
       "      <td>doing some more work today i had to get out! i have an awesome view #santamonica #mexicanfood #chillen #saturday…</td>\n",
       "    </tr>\n",
       "    <tr>\n",
       "      <th>9971</th>\n",
       "      <td>0.961356</td>\n",
       "      <td>i was never one to burn bridges...i'd rather run them! #runwiththewinners #nikerunning #nrc…</td>\n",
       "    </tr>\n",
       "    <tr>\n",
       "      <th>3075</th>\n",
       "      <td>0.960904</td>\n",
       "      <td>when you don't have a boyfriend but food will do! 🤗 . . . #blogger #yum #frozenyogurt #freeze…</td>\n",
       "    </tr>\n",
       "    <tr>\n",
       "      <th>163</th>\n",
       "      <td>0.959708</td>\n",
       "      <td>i'm in #brentwood enjoying an #americano a #croissant and a good #book i'm so #happy! #lifespleasures…</td>\n",
       "    </tr>\n",
       "    <tr>\n",
       "      <th>13561</th>\n",
       "      <td>0.959616</td>\n",
       "      <td>we almost made it to the real line this time.... so close.... #guardiansofthegalaxy #gotg #missionbreakout…</td>\n",
       "    </tr>\n",
       "    <tr>\n",
       "      <th>9410</th>\n",
       "      <td>0.958289</td>\n",
       "      <td>today is the day!! can't wait!!#lovemyjob #employeescreening #wblife #wonderwoman</td>\n",
       "    </tr>\n",
       "    <tr>\n",
       "      <th>5122</th>\n",
       "      <td>0.957928</td>\n",
       "      <td>thrilled #billmaher helped start this #nationaldialogueonrace! should white people say the n word on tv? let's talk it out! #notracist</td>\n",
       "    </tr>\n",
       "    <tr>\n",
       "      <th>6178</th>\n",
       "      <td>0.957382</td>\n",
       "      <td>dr. strangelove or: how i learned to stop worrying and love the #covfefe #ruinamovie #trump</td>\n",
       "    </tr>\n",
       "    <tr>\n",
       "      <th>9321</th>\n",
       "      <td>0.956624</td>\n",
       "      <td>happy saturday to you all! #ramadankareem #holymonth  7840 firestone blvd,downey ca…</td>\n",
       "    </tr>\n",
       "    <tr>\n",
       "      <th>3553</th>\n",
       "      <td>0.956378</td>\n",
       "      <td>now at a birthday party. how did they hijack our weekend?? #daddysboys #twins #dadlife…</td>\n",
       "    </tr>\n",
       "    <tr>\n",
       "      <th>7629</th>\n",
       "      <td>0.956321</td>\n",
       "      <td>#kevindurant is everywhere on defense. just like #romanreigns will need to be for #fatal5way match. #nbafinals #extremerules</td>\n",
       "    </tr>\n",
       "    <tr>\n",
       "      <th>7880</th>\n",
       "      <td>0.956181</td>\n",
       "      <td>hey, look at me! - the (real) caption for every #selfie ever #realtalk this is the new 'do post…</td>\n",
       "    </tr>\n",
       "    <tr>\n",
       "      <th>5259</th>\n",
       "      <td>0.955245</td>\n",
       "      <td>just hanging with #spidermanhomecoming looking for #happy because he is the cool one #jonfavreau…</td>\n",
       "    </tr>\n",
       "    <tr>\n",
       "      <th>3134</th>\n",
       "      <td>0.955194</td>\n",
       "      <td>it's #gametime w/ and i'm on #teamdubs.</td>\n",
       "    </tr>\n",
       "  </tbody>\n",
       "</table>\n",
       "</div>"
      ],
      "text/plain": [
       "          score  \\\n",
       "6163   0.966316   \n",
       "12246  0.963995   \n",
       "5639   0.962568   \n",
       "4560   0.962019   \n",
       "13833  0.961860   \n",
       "10598  0.961555   \n",
       "14600  0.961530   \n",
       "9971   0.961356   \n",
       "3075   0.960904   \n",
       "163    0.959708   \n",
       "13561  0.959616   \n",
       "9410   0.958289   \n",
       "5122   0.957928   \n",
       "6178   0.957382   \n",
       "9321   0.956624   \n",
       "3553   0.956378   \n",
       "7629   0.956321   \n",
       "7880   0.956181   \n",
       "5259   0.955245   \n",
       "3134   0.955194   \n",
       "\n",
       "                                                                                                                                        tweet  \n",
       "6163                                looks like i will be giving &amp; their first facials this weekend! #welcometola #broday #gloupchallange   \n",
       "12246                                        who is this guy? jrsilvas1 # #✅ #dj #chargedup came along way! #comeback story of a life time!…   \n",
       "5639     i love how no one pays attention to me, even the people i love most. #donetalking #frustrated #jaded #noonegivesafuck #nobodylistens  \n",
       "4560                                            who has the bet cats in the world? i do! #homesweethome #catsofinstagram #love #tripodkitty…   \n",
       "13833                              found this crazy lily today, at least we think it's a lily 🤔. #westforksangabrielriver #stereoscopic #lsc   \n",
       "10598              everyone shows up to the party, very few show up for preparation...- #onefelix 2017 #fruition #brickbybrick #listentofelix  \n",
       "14600                      doing some more work today i had to get out! i have an awesome view #santamonica #mexicanfood #chillen #saturday…   \n",
       "9971                                            i was never one to burn bridges...i'd rather run them! #runwiththewinners #nikerunning #nrc…   \n",
       "3075                                          when you don't have a boyfriend but food will do! 🤗 . . . #blogger #yum #frozenyogurt #freeze…   \n",
       "163                                   i'm in #brentwood enjoying an #americano a #croissant and a good #book i'm so #happy! #lifespleasures…   \n",
       "13561                            we almost made it to the real line this time.... so close.... #guardiansofthegalaxy #gotg #missionbreakout…   \n",
       "9410                                                       today is the day!! can't wait!!#lovemyjob #employeescreening #wblife #wonderwoman   \n",
       "5122   thrilled #billmaher helped start this #nationaldialogueonrace! should white people say the n word on tv? let's talk it out! #notracist  \n",
       "6178                                              dr. strangelove or: how i learned to stop worrying and love the #covfefe #ruinamovie #trump  \n",
       "9321                                                    happy saturday to you all! #ramadankareem #holymonth  7840 firestone blvd,downey ca…   \n",
       "3553                                                 now at a birthday party. how did they hijack our weekend?? #daddysboys #twins #dadlife…   \n",
       "7629             #kevindurant is everywhere on defense. just like #romanreigns will need to be for #fatal5way match. #nbafinals #extremerules  \n",
       "7880                                        hey, look at me! - the (real) caption for every #selfie ever #realtalk this is the new 'do post…   \n",
       "5259                                       just hanging with #spidermanhomecoming looking for #happy because he is the cool one #jonfavreau…   \n",
       "3134                                                                                                 it's #gametime w/ and i'm on #teamdubs.   "
      ]
     },
     "execution_count": 37,
     "metadata": {},
     "output_type": "execute_result"
    }
   ],
   "source": [
    "Top_scored_tweets_in_B('nationaldonutday', n = 15000)"
   ]
  },
  {
   "cell_type": "code",
   "execution_count": null,
   "metadata": {
    "collapsed": true
   },
   "outputs": [],
   "source": []
  }
 ],
 "metadata": {
  "kernelspec": {
   "display_name": "Python 3",
   "language": "python",
   "name": "python3"
  },
  "language_info": {
   "codemirror_mode": {
    "name": "ipython",
    "version": 3
   },
   "file_extension": ".py",
   "mimetype": "text/x-python",
   "name": "python",
   "nbconvert_exporter": "python",
   "pygments_lexer": "ipython3",
   "version": "3.5.2"
  }
 },
 "nbformat": 4,
 "nbformat_minor": 2
}
