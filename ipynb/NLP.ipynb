{
 "cells": [
  {
   "cell_type": "code",
   "execution_count": 3,
   "metadata": {
    "collapsed": true
   },
   "outputs": [],
   "source": [
    "import pandas as pd\n",
    "import re\n",
    "from spacy.en import English\n",
    "nlp = English()"
   ]
  },
  {
   "cell_type": "code",
   "execution_count": 2,
   "metadata": {
    "collapsed": true
   },
   "outputs": [],
   "source": [
    "def c(text):\n",
    "    text = re.sub(\"'\",\"''\", text)\n",
    "    text = re.sub(\"{\",\"\\{\",text)\n",
    "    text = re.sub(\"}\",\"\\}\",text)\n",
    "    return text"
   ]
  },
  {
   "cell_type": "code",
   "execution_count": 1,
   "metadata": {},
   "outputs": [
    {
     "name": "stdout",
     "output_type": "stream",
     "text": [
      "total tweet: 202257\n",
      "1\n",
      "2\n",
      "3\n",
      "4\n"
     ]
    },
    {
     "ename": "KeyboardInterrupt",
     "evalue": "",
     "output_type": "error",
     "traceback": [
      "\u001b[0;31m---------------------------------------------------------------------------\u001b[0m",
      "\u001b[0;31mKeyboardInterrupt\u001b[0m                         Traceback (most recent call last)",
      "\u001b[0;32m<ipython-input-1-216117bc3003>\u001b[0m in \u001b[0;36m<module>\u001b[0;34m()\u001b[0m\n\u001b[1;32m     49\u001b[0m     \u001b[0mwhere\u001b[0m \u001b[0mtweet_content\u001b[0m \u001b[0;34m=\u001b[0m \u001b[0;34m'{}'\u001b[0m\u001b[0;34m;\u001b[0m\u001b[0;34m\u001b[0m\u001b[0m\n\u001b[1;32m     50\u001b[0m     commit;'''.format(v_bin,t)\n\u001b[0;32m---> 51\u001b[0;31m     \u001b[0mcur\u001b[0m\u001b[0;34m.\u001b[0m\u001b[0mexecute\u001b[0m\u001b[0;34m(\u001b[0m\u001b[0msql_update\u001b[0m\u001b[0;34m)\u001b[0m\u001b[0;34m\u001b[0m\u001b[0m\n\u001b[0m\u001b[1;32m     52\u001b[0m     \u001b[0mprint\u001b[0m\u001b[0;34m(\u001b[0m\u001b[0mcount\u001b[0m\u001b[0;34m)\u001b[0m\u001b[0;34m\u001b[0m\u001b[0m\n\u001b[1;32m     53\u001b[0m     \u001b[0;31m#print(count,\" \",v_arr[0])\u001b[0m\u001b[0;34m\u001b[0m\u001b[0;34m\u001b[0m\u001b[0m\n",
      "\u001b[0;32m/opt/conda/lib/python3.5/site-packages/psycopg2/extras.py\u001b[0m in \u001b[0;36mexecute\u001b[0;34m(self, query, vars)\u001b[0m\n\u001b[1;32m    221\u001b[0m         \u001b[0mself\u001b[0m\u001b[0;34m.\u001b[0m\u001b[0mcolumn_mapping\u001b[0m \u001b[0;34m=\u001b[0m \u001b[0;34m[\u001b[0m\u001b[0;34m]\u001b[0m\u001b[0;34m\u001b[0m\u001b[0m\n\u001b[1;32m    222\u001b[0m         \u001b[0mself\u001b[0m\u001b[0;34m.\u001b[0m\u001b[0m_query_executed\u001b[0m \u001b[0;34m=\u001b[0m \u001b[0;36m1\u001b[0m\u001b[0;34m\u001b[0m\u001b[0m\n\u001b[0;32m--> 223\u001b[0;31m         \u001b[0;32mreturn\u001b[0m \u001b[0msuper\u001b[0m\u001b[0;34m(\u001b[0m\u001b[0mRealDictCursor\u001b[0m\u001b[0;34m,\u001b[0m \u001b[0mself\u001b[0m\u001b[0;34m)\u001b[0m\u001b[0;34m.\u001b[0m\u001b[0mexecute\u001b[0m\u001b[0;34m(\u001b[0m\u001b[0mquery\u001b[0m\u001b[0;34m,\u001b[0m \u001b[0mvars\u001b[0m\u001b[0;34m)\u001b[0m\u001b[0;34m\u001b[0m\u001b[0m\n\u001b[0m\u001b[1;32m    224\u001b[0m \u001b[0;34m\u001b[0m\u001b[0m\n\u001b[1;32m    225\u001b[0m     \u001b[0;32mdef\u001b[0m \u001b[0mcallproc\u001b[0m\u001b[0;34m(\u001b[0m\u001b[0mself\u001b[0m\u001b[0;34m,\u001b[0m \u001b[0mprocname\u001b[0m\u001b[0;34m,\u001b[0m \u001b[0mvars\u001b[0m\u001b[0;34m=\u001b[0m\u001b[0;32mNone\u001b[0m\u001b[0;34m)\u001b[0m\u001b[0;34m:\u001b[0m\u001b[0;34m\u001b[0m\u001b[0m\n",
      "\u001b[0;31mKeyboardInterrupt\u001b[0m: "
     ]
    }
   ],
   "source": [
    "import pandas as pd\n",
    "import re\n",
    "from spacy.en import English\n",
    "nlp = English()\n",
    "\n",
    "def c(text):\n",
    "    text = re.sub(\"'\",\"''\", text)\n",
    "    text = re.sub(\"{\",\"\\{\",text)\n",
    "    text = re.sub(\"}\",\"\\}\",text)\n",
    "    return text\n",
    "\n",
    "from tqdm import tqdm\n",
    "import psycopg2 as pg2\n",
    "import psycopg2.extras as pgex\n",
    "from psycopg2.extras import RealDictCursor\n",
    "this_host='34.211.59.66'\n",
    "this_user='postgres'\n",
    "this_password='postgres'\n",
    "\n",
    "con_ct = pg2.connect(host = this_host,user = this_user,password = this_password)\n",
    "sql_ct = '''select count (*) from tweets where vector is null; '''\n",
    "cur_ct = con_ct.cursor()\n",
    "cur_ct.execute(sql_ct)\n",
    "ct = cur_ct.fetchall()\n",
    "\n",
    "#total english tweets = n\n",
    "n = ct[0][0]\n",
    "print('total tweet:',n)\n",
    "cur_ct.close()\n",
    "\n",
    "conn = pg2.connect(host = this_host, user = this_user,password = this_password)\n",
    "cur = conn.cursor(cursor_factory=RealDictCursor)\n",
    "\n",
    "\n",
    "count = 0\n",
    "while count < n: \n",
    "    sql_select = '''select * from tweets where vector is null limit 1 offset {}'''.format(count)\n",
    "    count += 1\n",
    "    #cur = conn.cursor()\n",
    "    cur.execute(sql_select)\n",
    "    row = cur.fetchall()[0]\n",
    "    t = c(row['tweet_content'])\n",
    "    v = nlp(row['tweet_content']) \n",
    "    v_arr = v.vector\n",
    "    v_bin = pg2.Binary(v_arr)\n",
    "    sql_update = '''\n",
    "    update tweets\n",
    "    set vector = {}\n",
    "    where tweet_content = '{}';\n",
    "    commit;'''.format(v_bin,t)\n",
    "    cur.execute(sql_update)\n",
    "    print(count)\n",
    "    #print(count,\" \",v_arr[0])\n",
    "conn.close()    \n",
    "print('done')  "
   ]
  },
  {
   "cell_type": "code",
   "execution_count": 2,
   "metadata": {
    "collapsed": true
   },
   "outputs": [],
   "source": [
    "conn.close()   "
   ]
  },
  {
   "cell_type": "code",
   "execution_count": 2,
   "metadata": {},
   "outputs": [
    {
     "data": {
      "text/plain": [
       "('870731768202117120',\n",
       " \"@foxnews is obsessed with @hillaryclinton and @kathygriffin it's all they talk about.  russia isn't in their vocabulary.\",\n",
       " None,\n",
       " 'False',\n",
       " 'Fri Jun 02 20:00:05 +0000 2017',\n",
       " None,\n",
       " 'United States',\n",
       " 'city',\n",
       " None,\n",
       " 'pacific time (us & canada)',\n",
       " 'en',\n",
       " None,\n",
       " 'None',\n",
       " 'beverly hills, ca',\n",
       " 'GeminiSpirits',\n",
       " 0,\n",
       " 0.0,\n",
       " 0.0,\n",
       " None,\n",
       " \" is obsessed with and it's all they talk about. russia isn't in their vocabulary.\",\n",
       " None)"
      ]
     },
     "execution_count": 2,
     "metadata": {},
     "output_type": "execute_result"
    }
   ],
   "source": [
    "a = [('870731768202117120', \"@foxnews is obsessed with @hillaryclinton and @kathygriffin it's all they talk about.  russia isn't in their vocabulary.\", None, 'False', 'Fri Jun 02 20:00:05 +0000 2017', None, 'United States', 'city', None, 'pacific time (us & canada)', 'en', None, 'None', 'beverly hills, ca', 'GeminiSpirits', 0, 0.0, 0.0, None, \" is obsessed with and it's all they talk about. russia isn't in their vocabulary.\", None)]\n",
    "a[0]"
   ]
  },
  {
   "cell_type": "code",
   "execution_count": 23,
   "metadata": {
    "collapsed": true
   },
   "outputs": [],
   "source": [
    "conn.close()"
   ]
  },
  {
   "cell_type": "code",
   "execution_count": 1,
   "metadata": {
    "collapsed": true
   },
   "outputs": [],
   "source": [
    "from tqdm import tqdm\n",
    "import psycopg2 as pg2\n",
    "import psycopg2.extras as pgex\n",
    "this_host='54.69.228.16'\n",
    "this_user='postgres'\n",
    "this_password='postgres'\n",
    "conn = pg2.connect(host = this_host, user = this_user,password = this_password)\n",
    "con_ct = pg2.connect(host = this_host,user = this_user,password = this_password)\n",
    "con_ct.close()\n",
    "conn.close()    "
   ]
  },
  {
   "cell_type": "code",
   "execution_count": null,
   "metadata": {
    "collapsed": true
   },
   "outputs": [],
   "source": [
    "content_vecs = np.array([nlp(i).vector for i in df['tweet_content']])\n",
    "content_vecs.shape"
   ]
  },
  {
   "cell_type": "code",
   "execution_count": null,
   "metadata": {
    "collapsed": true
   },
   "outputs": [],
   "source": [
    "sql_select = '''select * from tweets_demo where lang = 'en';'''\n",
    "\n",
    "sql_select_1 = '''select * from tweets_demo where lang = 'en' and vector is null;'''\n",
    "\n",
    "import psycopg2 as pg2\n",
    "import psycopg2.extras as pgex\n",
    "this_host='54.69.228.16'\n",
    "this_user='postgres'\n",
    "this_password='postgres'\n",
    "conn = pg2.connect(host = this_host, \n",
    "                        user = this_user,\n",
    "                        password = this_password)\n",
    "cur = conn.cursor(cursor_factory=pgex.RealDictCursor)\n",
    "cur.execute(sql_select_1)\n",
    "rows = cur.fetchall()\n",
    "conn.close()\n",
    "df = pd.DataFrame(rows)"
   ]
  },
  {
   "cell_type": "code",
   "execution_count": null,
   "metadata": {
    "collapsed": true
   },
   "outputs": [],
   "source": [
    "len(df)"
   ]
  },
  {
   "cell_type": "code",
   "execution_count": null,
   "metadata": {
    "collapsed": true
   },
   "outputs": [],
   "source": [
    "df[['tweet_content']].values"
   ]
  },
  {
   "cell_type": "code",
   "execution_count": null,
   "metadata": {
    "collapsed": true
   },
   "outputs": [],
   "source": [
    "arr = df[['tweet_content']][df['vector'].isnull()].values"
   ]
  },
  {
   "cell_type": "code",
   "execution_count": null,
   "metadata": {
    "collapsed": true
   },
   "outputs": [],
   "source": [
    "len(arr)"
   ]
  },
  {
   "cell_type": "code",
   "execution_count": null,
   "metadata": {
    "collapsed": true
   },
   "outputs": [],
   "source": [
    "arr[0][0]"
   ]
  },
  {
   "cell_type": "code",
   "execution_count": null,
   "metadata": {
    "collapsed": true,
    "scrolled": true
   },
   "outputs": [],
   "source": [
    "nlp(arr[0][0]).vector"
   ]
  },
  {
   "cell_type": "code",
   "execution_count": null,
   "metadata": {
    "collapsed": true
   },
   "outputs": [],
   "source": []
  }
 ],
 "metadata": {
  "kernelspec": {
   "display_name": "Python 3",
   "language": "python",
   "name": "python3"
  },
  "language_info": {
   "codemirror_mode": {
    "name": "ipython",
    "version": 3
   },
   "file_extension": ".py",
   "mimetype": "text/x-python",
   "name": "python",
   "nbconvert_exporter": "python",
   "pygments_lexer": "ipython3",
   "version": "3.5.2"
  }
 },
 "nbformat": 4,
 "nbformat_minor": 2
}
